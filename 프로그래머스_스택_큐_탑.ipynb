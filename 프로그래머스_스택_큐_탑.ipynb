{
 "cells": [
  {
   "cell_type": "markdown",
   "metadata": {},
   "source": [
    "# Inputs"
   ]
  },
  {
   "cell_type": "code",
   "execution_count": 27,
   "metadata": {},
   "outputs": [],
   "source": [
    "heights = [6,9,5,7,4]"
   ]
  },
  {
   "cell_type": "code",
   "execution_count": 81,
   "metadata": {},
   "outputs": [],
   "source": [
    "heights = [3,9,9,3,5,7,2]"
   ]
  },
  {
   "cell_type": "code",
   "execution_count": 83,
   "metadata": {},
   "outputs": [],
   "source": [
    "heights = [1,5,3,6,7,6,5]"
   ]
  },
  {
   "cell_type": "markdown",
   "metadata": {},
   "source": [
    "# Logic"
   ]
  },
  {
   "cell_type": "code",
   "execution_count": 4,
   "metadata": {},
   "outputs": [],
   "source": [
    "from collections import deque"
   ]
  },
  {
   "cell_type": "code",
   "execution_count": 84,
   "metadata": {},
   "outputs": [
    {
     "name": "stdout",
     "output_type": "stream",
     "text": [
      "5\n",
      "1\n",
      "deque([6])\n",
      "6\n",
      "2\n",
      "deque([5, 6])\n",
      "7\n",
      "3\n",
      "deque([0, 5, 6])\n",
      "6\n",
      "4\n",
      "deque([0, 0, 5, 6])\n",
      "3\n",
      "5\n",
      "deque([2, 0, 0, 5, 6])\n",
      "5\n",
      "6\n",
      "deque([0, 2, 0, 0, 5, 6])\n",
      "1\n",
      "7\n",
      "deque([0, 0, 2, 0, 0, 5, 6])\n"
     ]
    }
   ],
   "source": [
    "queue = deque(heights)\n",
    "answer = deque([])\n",
    "queueLen = len(queue)\n",
    "for i in range(1,len(queue)+1):\n",
    "    h = queue.pop()\n",
    "    j = 1\n",
    "    print(h)\n",
    "    print(i)\n",
    "    if(i==queueLen):\n",
    "        answer.appendleft(0)\n",
    "        print(answer)\n",
    "        break\n",
    "    while(True):\n",
    "        if(queue[queueLen-i-j]>h):\n",
    "            answer.appendleft(queueLen-i-j+1)\n",
    "            print(answer)\n",
    "            break\n",
    "        elif((queueLen-i-j)<0):\n",
    "            answer.appendleft(0)\n",
    "            print(answer)\n",
    "            break\n",
    "        else:\n",
    "            j+=1"
   ]
  },
  {
   "cell_type": "code",
   "execution_count": 86,
   "metadata": {
    "scrolled": true
   },
   "outputs": [
    {
     "data": {
      "text/plain": [
       "[0, 0, 2, 0, 0, 5, 6]"
      ]
     },
     "execution_count": 86,
     "metadata": {},
     "output_type": "execute_result"
    }
   ],
   "source": [
    "list(answer)"
   ]
  },
  {
   "cell_type": "code",
   "execution_count": null,
   "metadata": {},
   "outputs": [],
   "source": []
  }
 ],
 "metadata": {
  "kernelspec": {
   "display_name": "Python 3",
   "language": "python",
   "name": "python3"
  },
  "language_info": {
   "codemirror_mode": {
    "name": "ipython",
    "version": 3
   },
   "file_extension": ".py",
   "mimetype": "text/x-python",
   "name": "python",
   "nbconvert_exporter": "python",
   "pygments_lexer": "ipython3",
   "version": "3.7.1"
  }
 },
 "nbformat": 4,
 "nbformat_minor": 2
}
