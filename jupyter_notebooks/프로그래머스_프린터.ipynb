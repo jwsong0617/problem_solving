{
 "cells": [
  {
   "cell_type": "markdown",
   "metadata": {},
   "source": [
    "# ex inputs"
   ]
  },
  {
   "cell_type": "code",
   "execution_count": null,
   "metadata": {
    "collapsed": true
   },
   "outputs": [],
   "source": [
    "priorities = [2, 1, 3, 2]\n",
    "location = 2"
   ]
  },
  {
   "cell_type": "code",
   "execution_count": 102,
   "metadata": {
    "collapsed": true
   },
   "outputs": [],
   "source": [
    "priorities = [1, 1, 9, 1, 1, 1]\n",
    "location = 0"
   ]
  },
  {
   "cell_type": "code",
   "execution_count": 79,
   "metadata": {
    "collapsed": true
   },
   "outputs": [],
   "source": [
    "import queue"
   ]
  },
  {
   "cell_type": "code",
   "execution_count": 103,
   "metadata": {
    "collapsed": true
   },
   "outputs": [],
   "source": [
    "prior_q = []\n",
    "loc_q = []\n",
    "print_q = []"
   ]
  },
  {
   "cell_type": "code",
   "execution_count": 104,
   "metadata": {
    "collapsed": true
   },
   "outputs": [],
   "source": [
    "for i, elem in enumerate(priorities):\n",
    "    prior_q += [elem]\n",
    "    loc_q += [i]"
   ]
  },
  {
   "cell_type": "code",
   "execution_count": 105,
   "metadata": {},
   "outputs": [
    {
     "name": "stdout",
     "output_type": "stream",
     "text": [
      "[1, 1, 9, 1, 1, 1]\n",
      "[0, 1, 2, 3, 4, 5]\n",
      "[]\n"
     ]
    }
   ],
   "source": [
    "print(prior_q)\n",
    "print(loc_q)\n",
    "print(print_q)"
   ]
  },
  {
   "cell_type": "code",
   "execution_count": 106,
   "metadata": {},
   "outputs": [
    {
     "name": "stdout",
     "output_type": "stream",
     "text": [
      "\n",
      "first_elem != max(prior_q)\n",
      "prior_q: [1, 9, 1, 1, 1, 1]\n",
      "loc_q: [1, 2, 3, 4, 5, 0]\n",
      "print_q: []\n",
      "\n",
      "first_elem != max(prior_q)\n",
      "prior_q: [9, 1, 1, 1, 1, 1]\n",
      "loc_q: [2, 3, 4, 5, 0, 1]\n",
      "print_q: []\n",
      "\n",
      "else\n",
      "prior_q: [1, 1, 1, 1, 1]\n",
      "loc_q: [3, 4, 5, 0, 1]\n",
      "print_q: [2]\n",
      "\n",
      "else\n",
      "prior_q: [1, 1, 1, 1]\n",
      "loc_q: [4, 5, 0, 1]\n",
      "print_q: [2, 3]\n",
      "\n",
      "else\n",
      "prior_q: [1, 1, 1]\n",
      "loc_q: [5, 0, 1]\n",
      "print_q: [2, 3, 4]\n",
      "\n",
      "else\n",
      "prior_q: [1, 1]\n",
      "loc_q: [0, 1]\n",
      "print_q: [2, 3, 4, 5]\n",
      "\n",
      "else\n",
      "prior_q: [1]\n",
      "loc_q: [1]\n",
      "print_q: [2, 3, 4, 5, 0]\n",
      "\n",
      "else\n",
      "prior_q: []\n",
      "loc_q: []\n",
      "print_q: [2, 3, 4, 5, 0, 1]\n"
     ]
    }
   ],
   "source": [
    "while(prior_q):\n",
    "#     1. 인쇄 대기목록의 가장 앞에 있는 문서(J)를 대기목록에서 꺼냅니다.\n",
    "    first_elem = prior_q[0]\n",
    "    first_elem_loc = loc_q[0]\n",
    "#     2. 나머지 인쇄 대기목록에서 J보다 중요도가 높은 문서가 한 개라도 존재하면 J를 대기목록의 가장 마지막에 넣습니다.\n",
    "    if(first_elem != max(prior_q)):\n",
    "        print('\\nfirst_elem != max(prior_q)')\n",
    "        prior_q.pop(0)\n",
    "        loc_q.pop(0)\n",
    "        prior_q += [first_elem]\n",
    "        loc_q += [first_elem_loc]\n",
    "#     3. 그렇지 않으면 J를 인쇄합니다.\n",
    "    else:\n",
    "        print('\\nelse')\n",
    "        prior_q.pop(0)\n",
    "        loc_q.pop(0)\n",
    "        print_q += [first_elem_loc]\n",
    "    print('prior_q:', prior_q)\n",
    "    print('loc_q:', loc_q)\n",
    "    print('print_q:', print_q)    "
   ]
  },
  {
   "cell_type": "code",
   "execution_count": 108,
   "metadata": {},
   "outputs": [
    {
     "data": {
      "text/plain": [
       "5"
      ]
     },
     "execution_count": 108,
     "metadata": {},
     "output_type": "execute_result"
    }
   ],
   "source": [
    "print_q.index(0)+1"
   ]
  }
 ],
 "metadata": {
  "kernelspec": {
   "display_name": "Python 3",
   "language": "python",
   "name": "python3"
  },
  "language_info": {
   "codemirror_mode": {
    "name": "ipython",
    "version": 3
   },
   "file_extension": ".py",
   "mimetype": "text/x-python",
   "name": "python",
   "nbconvert_exporter": "python",
   "pygments_lexer": "ipython3",
   "version": "3.6.3"
  }
 },
 "nbformat": 4,
 "nbformat_minor": 2
}
