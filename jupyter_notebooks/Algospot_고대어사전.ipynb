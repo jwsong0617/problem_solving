{
 "cells": [
  {
   "cell_type": "code",
   "execution_count": 1,
   "metadata": {
    "collapsed": true
   },
   "outputs": [],
   "source": [
    "from functools import reduce"
   ]
  },
  {
   "cell_type": "code",
   "execution_count": 7,
   "metadata": {
    "scrolled": true
   },
   "outputs": [
    {
     "name": "stdout",
     "output_type": "stream",
     "text": [
      "3\n",
      "3\n",
      "ba\n",
      "aa\n",
      "ab\n",
      "5\n",
      "gg\n",
      "kia\n",
      "lotte\n",
      "lg\n",
      "hanhwa\n",
      "6\n",
      "dictioanry\n",
      "english\n",
      "is\n",
      "ordered\n",
      "ordinary\n",
      "this\n"
     ]
    }
   ],
   "source": [
    "test_n = int(input())\n",
    "tests = []\n",
    "for i in range(test_n):\n",
    "    words_n = int(input())\n",
    "    words = []\n",
    "    for j in range(words_n):\n",
    "        word = str(input())\n",
    "        words.append(word)\n",
    "    tests.append(words)"
   ]
  },
  {
   "cell_type": "code",
   "execution_count": 8,
   "metadata": {
    "scrolled": true
   },
   "outputs": [
    {
     "data": {
      "text/plain": [
       "[['ba', 'aa', 'ab'],\n",
       " ['gg', 'kia', 'lotte', 'lg', 'hanhwa'],\n",
       " ['dictioanry', 'english', 'is', 'ordered', 'ordinary', 'this']]"
      ]
     },
     "execution_count": 8,
     "metadata": {},
     "output_type": "execute_result"
    }
   ],
   "source": [
    "tests"
   ]
  },
  {
   "cell_type": "code",
   "execution_count": 9,
   "metadata": {
    "collapsed": true
   },
   "outputs": [],
   "source": [
    "### Python program to print topological sorting of a DAG\n",
    "from collections import defaultdict\n",
    " \n",
    "#Class to represent a graph\n",
    "class Graph:\n",
    "    def __init__(self,vertices):\n",
    "        self.graph = defaultdict(list) #dictionary containing adjacency List\n",
    "#         self.V = vertices #No. of vertices\n",
    "#         self.V = defaultdict(lambda: False)\n",
    "        self.V = dict()\n",
    "        self.Finished = dict()\n",
    "        self.cycle = False\n",
    "        for v in vertices:\n",
    "            self.V[v] = False\n",
    "            self.Finished[v] = False\n",
    " \n",
    "    # function to add an edge to graph\n",
    "    def addEdge(self,u,v):\n",
    "        self.graph[u].append(v)\n",
    " \n",
    "    # A recursive function used by topologicalSort\n",
    "    def topologicalSortUtil(self,v,stack): \n",
    "        # Mark the current node as visited.\n",
    "        self.V[v] = True\n",
    " \n",
    "        # Recur for all the vertices adjacent to this vertex\n",
    "        for i in self.graph[v]:\n",
    "            if self.V[i] == False:\n",
    "                self.topologicalSortUtil(i,stack)\n",
    "            elif self.Finished[i] == False:\n",
    "#                 print('Have a cycle')\n",
    "                self.cycle = True\n",
    " \n",
    "        # Push current vertex to stack which stores result\n",
    "        self.Finished[v] = True\n",
    "        stack.insert(0,v)\n",
    " \n",
    "    # The function to do Topological Sort. It uses recursive \n",
    "    # topologicalSortUtil()\n",
    "    def topologicalSort(self):\n",
    "        # Mark all the vertices as not visited\n",
    "#         visited = [False]*self.V\n",
    "        stack =[]\n",
    " \n",
    "        # Call the recursive helper function to store Topological\n",
    "        # Sort starting from all vertices one by one\n",
    "        for k,v in self.V.items():\n",
    "#             print(k,v)\n",
    "            if v != True:\n",
    "#                 print('not visited!')\n",
    "                self.topologicalSortUtil(k,stack)\n",
    "#         for i in range(self.V):\n",
    "#             if visited[i] == False:\n",
    "#                 self.topologicalSortUtil(i,visited,stack)\n",
    " \n",
    "        # Print contents of the stack\n",
    "        if not self.cycle:\n",
    "            return stack\n",
    "#             print(''.join(stack + list((set('abcdefghijklmnopqrstuvwxyz') - set(stack)))))\n",
    "        else:\n",
    "            return 'INVALID HYPOTHESIS'\n",
    "#             print('INVALID HYPOTHESIS')"
   ]
  },
  {
   "cell_type": "code",
   "execution_count": 10,
   "metadata": {},
   "outputs": [],
   "source": [
    "test_case = tests[2]"
   ]
  },
  {
   "cell_type": "code",
   "execution_count": 141,
   "metadata": {
    "collapsed": true
   },
   "outputs": [],
   "source": [
    "# all_chars = reduce(lambda x,y: x+y,test_case)\n",
    "# all_chars_set = set(all_chars)\n",
    "# g = Graph(all_chars_set)\n",
    "# # all_chars_num = len(set(all_chars))"
   ]
  },
  {
   "cell_type": "code",
   "execution_count": 11,
   "metadata": {},
   "outputs": [],
   "source": [
    "chars = []\n",
    "for i, word in enumerate(test_case):\n",
    "    if(i == (len(test_case)-1)):\n",
    "        break\n",
    "    k = 0 #비교할 문자열의 인덱스\n",
    "    while(word[k] == test_case[i+1][k]):\n",
    "        k+=1\n",
    "    chars += word[k],test_case[i+1][k]\n",
    "g = Graph(list(set(chars)))\n",
    "for i, word in enumerate(test_case):\n",
    "    if(i == (len(test_case)-1)):\n",
    "        break\n",
    "    k = 0 #비교할 문자열의 인덱스\n",
    "    while(word[k] == test_case[i+1][k]):\n",
    "        k+=1\n",
    "    if(test_case[i+1][k] in g.graph[word[k]]):\n",
    "        continue\n",
    "    else:\n",
    "        g.addEdge(word[k],test_case[i+1][k])"
   ]
  },
  {
   "cell_type": "code",
   "execution_count": 12,
   "metadata": {
    "scrolled": true
   },
   "outputs": [],
   "source": [
    "temp = g.topologicalSort()"
   ]
  },
  {
   "cell_type": "code",
   "execution_count": 14,
   "metadata": {},
   "outputs": [
    {
     "data": {
      "text/plain": [
       "['d', 'e', 'i', 'o', 't']"
      ]
     },
     "execution_count": 14,
     "metadata": {},
     "output_type": "execute_result"
    }
   ],
   "source": [
    "temp"
   ]
  },
  {
   "cell_type": "code",
   "execution_count": 28,
   "metadata": {
    "scrolled": true
   },
   "outputs": [
    {
     "data": {
      "text/plain": [
       "'deiotabcfghjklmnpqrsuvwxyz'"
      ]
     },
     "execution_count": 28,
     "metadata": {},
     "output_type": "execute_result"
    }
   ],
   "source": [
    "''.join(temp + sorted(set('abcdefghijklmnopqrstuvwxyz')- set(temp), key='abcdefghijklmnopqrstuvwxyz'.index))"
   ]
  },
  {
   "cell_type": "markdown",
   "metadata": {},
   "source": [
    "# answer"
   ]
  },
  {
   "cell_type": "markdown",
   "metadata": {},
   "source": [
    "# sol1 - wrong"
   ]
  },
  {
   "cell_type": "code",
   "execution_count": 124,
   "metadata": {
    "scrolled": true
   },
   "outputs": [
    {
     "data": {
      "text/plain": [
       "[['ba', 'aa', 'ab'],\n",
       " ['gg', 'kia', 'lotte', 'lg', 'hanhwa'],\n",
       " ['dictionary', 'english', 'is', 'ordered', 'ordinary', 'this']]"
      ]
     },
     "execution_count": 124,
     "metadata": {},
     "output_type": "execute_result"
    }
   ],
   "source": [
    "tests"
   ]
  },
  {
   "cell_type": "code",
   "execution_count": 127,
   "metadata": {
    "scrolled": true
   },
   "outputs": [
    {
     "name": "stdout",
     "output_type": "stream",
     "text": [
      "INVALID HYPOTHESIS\n",
      "ntaogklhewirfqcvzdyuxsmbjp\n",
      "nsahlydgeciotrfqwvuxzmbkjp\n"
     ]
    }
   ],
   "source": [
    "from functools import reduce\n",
    "# test_n = int(input())\n",
    "# tests = []\n",
    "# for i in range(test_n):\n",
    "#     words_n = int(input())\n",
    "#     words = []\n",
    "#     for j in range(words_n):\n",
    "#         word = str(input())\n",
    "#         words.append(word)\n",
    "#     tests.append(words)\n",
    "\n",
    "### Python program to print topological sorting of a DAG\n",
    "from collections import defaultdict\n",
    " \n",
    "#Class to represent a graph\n",
    "class Graph:\n",
    "    def __init__(self,vertices):\n",
    "        self.graph = defaultdict(list) #dictionary containing adjacency List\n",
    "#         self.V = vertices #No. of vertices\n",
    "#         self.V = defaultdict(lambda: False)\n",
    "        self.V = dict()\n",
    "        self.Finished = dict()\n",
    "        self.cycle = False\n",
    "        for v in vertices:\n",
    "            self.V[v] = False\n",
    "            self.Finished[v] = False\n",
    " \n",
    "    # function to add an edge to graph\n",
    "    def addEdge(self,u,v):\n",
    "        self.graph[u].append(v)\n",
    " \n",
    "    # A recursive function used by topologicalSort\n",
    "    def topologicalSortUtil(self,v,stack): \n",
    "        # Mark the current node as visited.\n",
    "        self.V[v] = True\n",
    " \n",
    "        # Recur for all the vertices adjacent to this vertex\n",
    "        for i in self.graph[v]:\n",
    "            if self.V[i] == False:\n",
    "                self.topologicalSortUtil(i,stack)\n",
    "            elif self.Finished[i] == False:\n",
    "#                 print('Have a cycle')\n",
    "                self.cycle = True\n",
    " \n",
    "        # Push current vertex to stack which stores result\n",
    "        self.Finished[v] = True\n",
    "        stack.insert(0,v)\n",
    " \n",
    "    # The function to do Topological Sort. It uses recursive \n",
    "    # topologicalSortUtil()\n",
    "    def topologicalSort(self):\n",
    "        # Mark all the vertices as not visited\n",
    "#         visited = [False]*self.V\n",
    "        stack =[]\n",
    " \n",
    "        # Call the recursive helper function to store Topological\n",
    "        # Sort starting from all vertices one by one\n",
    "        for k,v in self.V.items():\n",
    "#             print(k,v)\n",
    "            if v != True:\n",
    "#                 print('not visited!')\n",
    "                self.topologicalSortUtil(k,stack)\n",
    "#         for i in range(self.V):\n",
    "#             if visited[i] == False:\n",
    "#                 self.topologicalSortUtil(i,visited,stack)\n",
    " \n",
    "        # Print contents of the stack\n",
    "        if not self.cycle:\n",
    "#             print(stack)\n",
    "            \n",
    "        else:\n",
    "            print('INVALID HYPOTHESIS')\n",
    "for test_case in tests:\n",
    "    all_chars = reduce(lambda x,y: x+y,test_case)\n",
    "    all_chars_set = set(all_chars)\n",
    "    g = Graph(all_chars_set)\n",
    "    for i, word in enumerate(test_case):\n",
    "        if(i == (len(test_case)-1)):\n",
    "            break\n",
    "        k = 0 #비교할 문자열의 인덱스\n",
    "        while(word[k] == test_case[i+1][k]):\n",
    "            k+=1\n",
    "        g.addEdge(word[k],test_case[i+1][k])\n",
    "    g.topologicalSort()"
   ]
  },
  {
   "cell_type": "markdown",
   "metadata": {},
   "source": [
    "# sol2 - wrong"
   ]
  },
  {
   "cell_type": "code",
   "execution_count": 81,
   "metadata": {
    "collapsed": true
   },
   "outputs": [
    {
     "name": "stdout",
     "output_type": "stream",
     "text": [
      "3\n",
      "3\n",
      "ba\n",
      "aa\n",
      "ab\n",
      "INVALID HYPOTHESIS\n",
      "5\n",
      "gg\n",
      "kia\n",
      "lotte\n",
      "lg\n",
      "hanhwa\n",
      "ogklhabcdefijmnpqrstuvwxyz\n",
      "516123asd\n"
     ]
    },
    {
     "ename": "ValueError",
     "evalue": "invalid literal for int() with base 10: '516123asd'",
     "output_type": "error",
     "traceback": [
      "\u001b[1;31m---------------------------------------------------------------------------\u001b[0m",
      "\u001b[1;31mValueError\u001b[0m                                Traceback (most recent call last)",
      "\u001b[1;32m<ipython-input-81-f884a6312f72>\u001b[0m in \u001b[0;36m<module>\u001b[1;34m()\u001b[0m\n\u001b[0;32m     58\u001b[0m \u001b[0mtest_n\u001b[0m \u001b[1;33m=\u001b[0m \u001b[0mint\u001b[0m\u001b[1;33m(\u001b[0m\u001b[0minput\u001b[0m\u001b[1;33m(\u001b[0m\u001b[1;33m)\u001b[0m\u001b[1;33m)\u001b[0m\u001b[1;33m\u001b[0m\u001b[0m\n\u001b[0;32m     59\u001b[0m \u001b[1;32mfor\u001b[0m \u001b[0mt\u001b[0m \u001b[1;32min\u001b[0m \u001b[0mrange\u001b[0m\u001b[1;33m(\u001b[0m\u001b[0mtest_n\u001b[0m\u001b[1;33m)\u001b[0m\u001b[1;33m:\u001b[0m\u001b[1;33m\u001b[0m\u001b[0m\n\u001b[1;32m---> 60\u001b[1;33m     \u001b[0mwords_n\u001b[0m \u001b[1;33m=\u001b[0m \u001b[0mint\u001b[0m\u001b[1;33m(\u001b[0m\u001b[0minput\u001b[0m\u001b[1;33m(\u001b[0m\u001b[1;33m)\u001b[0m\u001b[1;33m)\u001b[0m\u001b[1;33m\u001b[0m\u001b[0m\n\u001b[0m\u001b[0;32m     61\u001b[0m     \u001b[0mwords\u001b[0m \u001b[1;33m=\u001b[0m \u001b[1;33m[\u001b[0m\u001b[1;33m]\u001b[0m\u001b[1;33m\u001b[0m\u001b[0m\n\u001b[0;32m     62\u001b[0m     \u001b[0mchars\u001b[0m \u001b[1;33m=\u001b[0m \u001b[1;33m[\u001b[0m\u001b[1;33m]\u001b[0m\u001b[1;33m\u001b[0m\u001b[0m\n",
      "\u001b[1;31mValueError\u001b[0m: invalid literal for int() with base 10: '516123asd'"
     ]
    }
   ],
   "source": [
    "from functools import reduce\n",
    "\n",
    "### Python program to print topological sorting of a DAG\n",
    "from collections import defaultdict\n",
    " \n",
    "#Class to represent a graph\n",
    "class Graph:\n",
    "    def __init__(self,vertices):\n",
    "        self.graph = defaultdict(list) #dictionary containing adjacency List\n",
    "#         self.V = vertices #No. of vertices\n",
    "#         self.V = defaultdict(lambda: False)\n",
    "        self.V = dict()\n",
    "        self.Finished = dict()\n",
    "        self.cycle = False\n",
    "        for v in vertices:\n",
    "            self.V[v] = False\n",
    "            self.Finished[v] = False\n",
    " \n",
    "    # function to add an edge to graph\n",
    "    def addEdge(self,u,v):\n",
    "        self.graph[u].append(v)\n",
    " \n",
    "    # A recursive function used by topologicalSort\n",
    "    def topologicalSortUtil(self,v,stack): \n",
    "        # Mark the current node as visited.\n",
    "        self.V[v] = True\n",
    " \n",
    "        # Recur for all the vertices adjacent to this vertex\n",
    "        for i in self.graph[v]:\n",
    "            if self.V[i] == False:\n",
    "                self.topologicalSortUtil(i,stack)\n",
    "            elif self.Finished[i] == False:\n",
    "#                 print('Have a cycle')\n",
    "                self.cycle = True\n",
    " \n",
    "        # Push current vertex to stack which stores result\n",
    "        self.Finished[v] = True\n",
    "        stack.insert(0,v)\n",
    " \n",
    "    # The function to do Topological Sort. It uses recursive \n",
    "    # topologicalSortUtil()\n",
    "    def topologicalSort(self):\n",
    "        # Mark all the vertices as not visited\n",
    "#         visited = [False]*self.V\n",
    "        stack =[]\n",
    " \n",
    "        # Call the recursive helper function to store Topological\n",
    "        # Sort starting from all vertices one by one\n",
    "        for k,v in self.V.items():\n",
    "            if v != True:\n",
    "                self.topologicalSortUtil(k,stack)\n",
    " \n",
    "        # Print contents of the stack\n",
    "        if not self.cycle:\n",
    "            print(''.join(stack + sorted(set('abcdefghijklmnopqrstuvwxyz')- set(stack), key='abcdefghijklmnopqrstuvwxyz'.index)))\n",
    "        else:\n",
    "            print('INVALID HYPOTHESIS')\n",
    "test_n = int(input())\n",
    "for t in range(test_n):\n",
    "    words_n = int(input())\n",
    "    words = []\n",
    "    chars = []\n",
    "    for j in range(words_n):\n",
    "        w = str(input())\n",
    "        words.append(w)           \n",
    "    for i, word in enumerate(words):\n",
    "        if(i == (len(words)-1)):\n",
    "            break\n",
    "        k = 0 #비교할 문자열의 인덱스\n",
    "        while(word[k] == words[i+1][k]):\n",
    "            k+=1\n",
    "        chars += word[k],words[i+1][k]\n",
    "    g = Graph(list(set(chars)))\n",
    "    for l, word in enumerate(words): # 문제의 부분\n",
    "        if(l == (len(words)-1)):\n",
    "            break\n",
    "        k = 0 #비교할 문자열의 인덱스\n",
    "        while(word[k] == words[l+1][k]): # -> 런타임 에러의 원인. 계속 루프도는 테스트 케이스가 있는듯\n",
    "            k+=1\n",
    "#         if(words[l+1][k] in g.graph[word[k]]):\n",
    "#             continue\n",
    "#         else:\n",
    "        g.addEdge(word[k],words[l+1][k])\n",
    "    g.topologicalSort()"
   ]
  },
  {
   "cell_type": "markdown",
   "metadata": {},
   "source": [
    "# sol2.2 - 정답"
   ]
  },
  {
   "cell_type": "code",
   "execution_count": 84,
   "metadata": {},
   "outputs": [
    {
     "name": "stdout",
     "output_type": "stream",
     "text": [
      "3\n",
      "3\n",
      "ba\n",
      "aa\n",
      "ab\n",
      "INVALID HYPOTHESIS\n",
      "5\n",
      "gg\n",
      "kia\n",
      "lotte\n",
      "lg\n",
      "hanhwa\n",
      "zyxwvutsrqponmjigklhfedcba\n",
      "6\n",
      "dictionary\n",
      "english\n",
      "is\n",
      "ordered\n",
      "ordinary\n",
      "this\n",
      "zyxwvusrqpnmlkjhgfdeiotcba\n"
     ]
    }
   ],
   "source": [
    "### Python program to print topological sorting of a DAG\n",
    "from collections import defaultdict\n",
    " \n",
    "#Class to represent a graph\n",
    "class Graph:\n",
    "    def __init__(self,vertices):\n",
    "        self.graph = defaultdict(list) #dictionary containing adjacency List\n",
    "        self.V = dict()\n",
    "        self.Finished = dict()\n",
    "        self.cycle = False\n",
    "        for v in vertices:\n",
    "            self.V[v] = False\n",
    "            self.Finished[v] = False\n",
    " \n",
    "    # function to add an edge to graph\n",
    "    def addEdge(self,u,v):\n",
    "        self.graph[u].append(v)\n",
    " \n",
    "    # A recursive function used by topologicalSort\n",
    "    def topologicalSortUtil(self,v,stack): \n",
    "        # Mark the current node as visited.\n",
    "        self.V[v] = True\n",
    " \n",
    "        # Recur for all the vertices adjacent to this vertex\n",
    "        for i in self.graph[v]:\n",
    "            if not self.V[i]:\n",
    "                self.topologicalSortUtil(i,stack)\n",
    "            elif not self.Finished[i]:\n",
    "                self.cycle = True\n",
    " \n",
    "        # Push current vertex to stack which stores result\n",
    "        self.Finished[v] = True\n",
    "        stack.insert(0,v)\n",
    " \n",
    "    # The function to do Topological Sort. It uses recursive \n",
    "    # topologicalSortUtil()\n",
    "    def topologicalSort(self):\n",
    "        # Mark all the vertices as not visited\n",
    "        stack =[]\n",
    " \n",
    "        # Call the recursive helper function to store Topological\n",
    "        # Sort starting from all vertices one by one\n",
    "        for k,v in self.V.items():\n",
    "            if v != True:\n",
    "                self.topologicalSortUtil(k,stack)\n",
    " \n",
    "        # Print contents of the stack\n",
    "        if not self.cycle:\n",
    "            print(''.join(stack))\n",
    "        else:\n",
    "            print('INVALID HYPOTHESIS')\n",
    "for i in range(int(input())):\n",
    "    g = Graph(list('abcdefghijklmnopqrstuvwxyz'))\n",
    "    words = []\n",
    "    for j in range(int(input())):\n",
    "        w = str(input())\n",
    "        words.append(w)              \n",
    "    for i, word in enumerate(words):\n",
    "        if(i == (len(words)-1)):\n",
    "            break\n",
    "        l = min(len(words[i]), len(words[i+1]))\n",
    "        for j in range(l):\n",
    "            char1 = words[i][j]\n",
    "            char2 = words[i+1][j]\n",
    "            if(char1 != char2):\n",
    "                g.addEdge(char1,char2)    \n",
    "                break\n",
    "#     for i in range(1, len(words)):\n",
    "#         l = min(len(words[i-1]), len(words[i]))\n",
    "#         for j in range(l):\n",
    "#             char1 = words[i-1][j]\n",
    "#             char2 = words[i][j]\n",
    "#             if(char1 != char2):\n",
    "# #                 if(char2 not in g.graph[char1]): -> 이게 원인이었음 하나 더 돌게해서 사전에 없는 규칙을 만드는\n",
    "#                 g.addEdge(char1,char2)    \n",
    "#                 break\n",
    "    g.topologicalSort()"
   ]
  },
  {
   "cell_type": "markdown",
   "metadata": {},
   "source": [
    "# sol3"
   ]
  },
  {
   "cell_type": "code",
   "execution_count": 79,
   "metadata": {},
   "outputs": [
    {
     "name": "stdout",
     "output_type": "stream",
     "text": [
      "3\n",
      "3\n",
      "ba\n",
      "aa\n",
      "ab\n",
      "INVALID HYPOTHESIS\n",
      "5\n",
      "gg\n",
      "kia\n",
      "lotte\n",
      "lg\n",
      "hanhwa\n",
      "zyxwvutsrqponmjigklhfedcba\n",
      "asd\n"
     ]
    },
    {
     "ename": "ValueError",
     "evalue": "invalid literal for int() with base 10: 'asd'",
     "output_type": "error",
     "traceback": [
      "\u001b[1;31m---------------------------------------------------------------------------\u001b[0m",
      "\u001b[1;31mValueError\u001b[0m                                Traceback (most recent call last)",
      "\u001b[1;32m<ipython-input-79-4e60204f362f>\u001b[0m in \u001b[0;36m<module>\u001b[1;34m()\u001b[0m\n\u001b[0;32m     57\u001b[0m     \u001b[0mg\u001b[0m \u001b[1;33m=\u001b[0m \u001b[0mGraph\u001b[0m\u001b[1;33m(\u001b[0m\u001b[0mlist\u001b[0m\u001b[1;33m(\u001b[0m\u001b[1;34m'abcdefghijklmnopqrstuvwxyz'\u001b[0m\u001b[1;33m)\u001b[0m\u001b[1;33m)\u001b[0m\u001b[1;33m\u001b[0m\u001b[0m\n\u001b[0;32m     58\u001b[0m     \u001b[0mwords\u001b[0m \u001b[1;33m=\u001b[0m \u001b[1;33m[\u001b[0m\u001b[1;33m]\u001b[0m\u001b[1;33m\u001b[0m\u001b[0m\n\u001b[1;32m---> 59\u001b[1;33m     \u001b[1;32mfor\u001b[0m \u001b[0mi\u001b[0m \u001b[1;32min\u001b[0m \u001b[0mrange\u001b[0m\u001b[1;33m(\u001b[0m\u001b[0mint\u001b[0m\u001b[1;33m(\u001b[0m\u001b[0minput\u001b[0m\u001b[1;33m(\u001b[0m\u001b[1;33m)\u001b[0m\u001b[1;33m)\u001b[0m\u001b[1;33m)\u001b[0m\u001b[1;33m:\u001b[0m\u001b[1;33m\u001b[0m\u001b[0m\n\u001b[0m\u001b[0;32m     60\u001b[0m         \u001b[0mwords\u001b[0m \u001b[1;33m+=\u001b[0m \u001b[1;33m[\u001b[0m\u001b[0minput\u001b[0m\u001b[1;33m(\u001b[0m\u001b[1;33m)\u001b[0m\u001b[1;33m]\u001b[0m\u001b[1;33m\u001b[0m\u001b[0m\n\u001b[0;32m     61\u001b[0m     \u001b[1;32mfor\u001b[0m \u001b[0mi\u001b[0m \u001b[1;32min\u001b[0m \u001b[0mrange\u001b[0m\u001b[1;33m(\u001b[0m\u001b[1;36m1\u001b[0m\u001b[1;33m,\u001b[0m \u001b[0mlen\u001b[0m\u001b[1;33m(\u001b[0m\u001b[0mwords\u001b[0m\u001b[1;33m)\u001b[0m\u001b[1;33m)\u001b[0m\u001b[1;33m:\u001b[0m\u001b[1;33m\u001b[0m\u001b[0m\n",
      "\u001b[1;31mValueError\u001b[0m: invalid literal for int() with base 10: 'asd'"
     ]
    }
   ],
   "source": [
    "from collections import defaultdict\n",
    "\n",
    "### Python program to print topological sorting of a DAG\n",
    " \n",
    "#Class to represent a graph\n",
    "class Graph:\n",
    "    def __init__(self,vertices):\n",
    "        self.graph = defaultdict(list) #dictionary containing adjacency List\n",
    "        self.V = dict()\n",
    "        self.Finished = dict()\n",
    "        self.cycle = False\n",
    "        for v in vertices:\n",
    "            self.V[v] = False\n",
    "            self.Finished[v] = False\n",
    " \n",
    "    # function to add an edge to graph\n",
    "    def addEdge(self,u,v):\n",
    "        self.graph[u].append(v)\n",
    " \n",
    "    # A recursive function used by topologicalSort\n",
    "    def topologicalSortUtil(self,v,stack): \n",
    "        # Mark the current node as visited.\n",
    "        self.V[v] = True\n",
    " \n",
    "        # Recur for all the vertices adjacent to this vertex\n",
    "        for i in self.graph[v]:\n",
    "            if not self.V[i]:\n",
    "                self.topologicalSortUtil(i,stack)\n",
    "            elif not self.Finished[i]:\n",
    "                self.cycle = True\n",
    " \n",
    "        # Push current vertex to stack which stores result\n",
    "        self.Finished[v] = True\n",
    "        stack.insert(0,v)\n",
    " \n",
    "    # The function to do Topological Sort. It uses recursive \n",
    "    # topologicalSortUtil()\n",
    "    def topologicalSort(self):\n",
    "        # Mark all the vertices as not visited\n",
    "        stack =[]\n",
    " \n",
    "        # Call the recursive helper function to store Topological\n",
    "        # Sort starting from all vertices one by one\n",
    "        for v in self.V:\n",
    "            if not self.V[v]:\n",
    "                self.topologicalSortUtil(v,stack)\n",
    " \n",
    "        # Print contents of the stack\n",
    "#         print(stack)\n",
    "        if not self.cycle:            \n",
    "            print(''.join(stack))\n",
    "        else:\n",
    "            print('INVALID HYPOTHESIS')\n",
    "#         print()\n",
    "\n",
    "for i in range(int(input())):\n",
    "    g = Graph(list('abcdefghijklmnopqrstuvwxyz'))\n",
    "    words = []\n",
    "    for i in range(int(input())):\n",
    "        words += [input()]\n",
    "    for i in range(1, len(words)):\n",
    "        l = min(len(words[i-1]), len(words[i]))\n",
    "        for j in range(l):\n",
    "            char1 = words[i-1][j]\n",
    "            char2 = words[i][j]\n",
    "            if(char1 != char2):\n",
    "#                 if(char2 not in g.graph[char1]): -> 이게 원인이었음 하나 더 돌게해서 사전에 없는 규칙을 만드는\n",
    "                g.addEdge(char1,char2)    \n",
    "                break\n",
    "#     print(g.graph)\n",
    "#     print(g.V)\n",
    "#     print(g.Finished)\n",
    "#     print(g.cycle)\n",
    "#     print('\\n')\n",
    "    g.topologicalSort()\n",
    "#     print(g.graph)\n",
    "#     print(g.V)\n",
    "#     print(g.Finished)\n",
    "#     print(g.cycle)\n",
    "#     print('\\n')"
   ]
  },
  {
   "cell_type": "markdown",
   "metadata": {},
   "source": [
    "# Sol4 - 다른 사람 정답"
   ]
  },
  {
   "cell_type": "code",
   "execution_count": 65,
   "metadata": {},
   "outputs": [
    {
     "name": "stdout",
     "output_type": "stream",
     "text": [
      "3\n",
      "3\n",
      "ba\n",
      "aa\n",
      "ab\n",
      "INVALID HYPOTHESIS\n",
      "\n",
      "5\n",
      "gg\n",
      "kia\n",
      "lotte\n",
      "lg\n",
      "hanhwa\n",
      "zyxwvutsrqponmjigklhfedcba\n",
      "6\n",
      "dictionary\n",
      "english\n",
      "is\n",
      "ordered\n",
      "ordinary\n",
      "this\n",
      "zyxwvusrqpnmlkjhgfdeiotcba\n"
     ]
    }
   ],
   "source": [
    "def dfs(h):\n",
    "    global cycle\n",
    "    visited[h]=True\n",
    "    for i in tree[h]:\n",
    "        if not visited[i]: dfs(i);\n",
    "        if not finish[i]: cycle=True\n",
    "    finish[h]=True\n",
    "    ret.insert(0,h)\n",
    "for i in range(int(input())):\n",
    "    words=[];ret=[]\n",
    "    tree={};visited={};finish={}\n",
    "    cycle=False\n",
    "    for i in range(int(input())):\n",
    "        words.append(input())\n",
    "    for i in range(ord('a'),ord('z')+1):\n",
    "        ch=chr(i)\n",
    "        tree[ch]=[];visited[ch]=False;finish[ch]=False\n",
    "    for i in range(1,len(words)):\n",
    "        l=min(len(words[i-1]),len(words[i]))\n",
    "        for j in range(l):\n",
    "            ch1=words[i-1][j];ch2=words[i][j]\n",
    "            if ch1!=ch2:\n",
    "                tree[ch1].append(ch2)\n",
    "                break\n",
    "    for i in tree:\n",
    "        if not visited[i]:dfs(i)\n",
    "    if not cycle:\n",
    "        for i in ret: print(i,end='')\n",
    "    else: print(\"INVALID HYPOTHESIS\")\n",
    "    print()"
   ]
  },
  {
   "cell_type": "code",
   "execution_count": null,
   "metadata": {
    "collapsed": true
   },
   "outputs": [],
   "source": []
  }
 ],
 "metadata": {
  "anaconda-cloud": {},
  "kernelspec": {
   "display_name": "Python 3",
   "language": "python",
   "name": "python3"
  },
  "language_info": {
   "codemirror_mode": {
    "name": "ipython",
    "version": 3
   },
   "file_extension": ".py",
   "mimetype": "text/x-python",
   "name": "python",
   "nbconvert_exporter": "python",
   "pygments_lexer": "ipython3",
   "version": "3.6.3"
  }
 },
 "nbformat": 4,
 "nbformat_minor": 2
}
