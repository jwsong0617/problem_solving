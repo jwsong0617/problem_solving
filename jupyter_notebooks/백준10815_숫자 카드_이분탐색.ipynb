{
 "cells": [
  {
   "cell_type": "code",
   "execution_count": 2,
   "metadata": {
    "collapsed": true
   },
   "outputs": [],
   "source": [
    "import time, datetime"
   ]
  },
  {
   "cell_type": "code",
   "execution_count": 3,
   "metadata": {
    "scrolled": true
   },
   "outputs": [
    {
     "name": "stdout",
     "output_type": "stream",
     "text": [
      "5\n",
      "6 3 2 10 -10\n",
      "8\n",
      "10 9 -5 2 3 4 5 -10\n",
      "1 0 0 1 1 0 0 1\n",
      "0:00:00\n"
     ]
    }
   ],
   "source": [
    "#시간 초과\n",
    "N = input()\n",
    "cards = list(map(int,input().split()))\n",
    "M = input()\n",
    "test_cards = list(map(int,input().split()))\n",
    "start_time = time.time()\n",
    "ans = list(map(lambda x:1 if x in cards else 0,test_cards))\n",
    "print(' '.join(str(e) for e in ans))\n",
    "print(str(datetime.timedelta(seconds=time.time() - start_time)))"
   ]
  },
  {
   "cell_type": "code",
   "execution_count": 4,
   "metadata": {},
   "outputs": [
    {
     "name": "stdout",
     "output_type": "stream",
     "text": [
      "1 0 0 1 1 0 0 1\n",
      "0:00:00\n"
     ]
    }
   ],
   "source": [
    "import bisect\n",
    "\n",
    "def binary_search(arr, x):\n",
    "    i = bisect.bisect_left(arr, x)\n",
    "    if(i < len(arr) and arr[i] == x):\n",
    "        return 1\n",
    "    else:\n",
    "        return 0\n",
    "    \n",
    "# N = input()\n",
    "# cards = list(map(int,input().split()))\n",
    "# M = input()\n",
    "# test_cards = list(map(int,input().split()))\n",
    "start_time = time.time()\n",
    "cards.sort()\n",
    "ans = list(map(lambda x: binary_search(cards, x),test_cards))\n",
    "print(' '.join(str(e) for e in ans))\n",
    "print(str(datetime.timedelta(seconds=time.time() - start_time)))"
   ]
  },
  {
   "cell_type": "code",
   "execution_count": 5,
   "metadata": {},
   "outputs": [
    {
     "name": "stdout",
     "output_type": "stream",
     "text": [
      "1 0 0 1 1 0 0 1\n",
      "0:00:00\n"
     ]
    }
   ],
   "source": [
    "def binary_search_manual(arr, x):\n",
    "    left = 0\n",
    "    right = len(arr)-1\n",
    "    while(left<=right):\n",
    "        mid = int((left + right)/2)\n",
    "        if(arr[mid] == x):\n",
    "            return 1\n",
    "        elif(arr[mid]<=x):\n",
    "            left = mid+1\n",
    "        elif(arr[mid]>=x):\n",
    "            right = mid-1\n",
    "    return 0 \n",
    "# N = input()\n",
    "# cards = list(map(int,input().split()))\n",
    "# M = input()\n",
    "# test_cards = list(map(int,input().split()))\n",
    "start_time = time.time()\n",
    "cards.sort()\n",
    "ans = list(map(lambda x: binary_search_manual(cards,x), test_cards))\n",
    "print(' '.join(str(e) for e in ans))\n",
    "print(str(datetime.timedelta(seconds=time.time() - start_time)))"
   ]
  }
 ],
 "metadata": {
  "kernelspec": {
   "display_name": "Python 3",
   "language": "python",
   "name": "python3"
  },
  "language_info": {
   "codemirror_mode": {
    "name": "ipython",
    "version": 3
   },
   "file_extension": ".py",
   "mimetype": "text/x-python",
   "name": "python",
   "nbconvert_exporter": "python",
   "pygments_lexer": "ipython3",
   "version": "3.6.3"
  }
 },
 "nbformat": 4,
 "nbformat_minor": 2
}
