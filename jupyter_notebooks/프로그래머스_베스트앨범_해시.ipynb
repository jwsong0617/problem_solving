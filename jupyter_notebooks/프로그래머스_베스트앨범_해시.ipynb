{
 "cells": [
  {
   "cell_type": "code",
   "execution_count": null,
   "metadata": {
    "collapsed": true
   },
   "outputs": [],
   "source": [
    "from collections import defaultdict\n",
    "def solution(genres, plays):\n",
    "    genres_list = defaultdict(list)\n",
    "    genres_totalPlays = defaultdict(lambda: 0)\n",
    "    ret = []\n",
    "    for i, pair in enumerate(zip(genres, plays)):\n",
    "        genres_list[pair[0]].append([-pair[1],i])\n",
    "        genres_totalPlays[pair[0]]+=pair[1]\n",
    "    for genre in sorted(genres_totalPlays, key=lambda x:genres_totalPlays[x], reverse=True):\n",
    "        if(len(genres_list[genre])==1):\n",
    "            ret+=[genres_list[genre][0][1]]\n",
    "        else:\n",
    "            sortByPlayNum = sorted(genres_list[genre])[:2]\n",
    "            ret+=[index for minus_play, index in sortByPlayNum]   \n",
    "    return ret"
   ]
  }
 ],
 "metadata": {
  "kernelspec": {
   "display_name": "Python 3",
   "language": "python",
   "name": "python3"
  },
  "language_info": {
   "codemirror_mode": {
    "name": "ipython",
    "version": 3
   },
   "file_extension": ".py",
   "mimetype": "text/x-python",
   "name": "python",
   "nbconvert_exporter": "python",
   "pygments_lexer": "ipython3",
   "version": "3.7.1"
  }
 },
 "nbformat": 4,
 "nbformat_minor": 2
}
