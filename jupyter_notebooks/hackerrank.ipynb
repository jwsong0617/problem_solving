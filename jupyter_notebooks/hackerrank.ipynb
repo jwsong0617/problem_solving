{
 "cells": [
  {
   "cell_type": "markdown",
   "metadata": {},
   "source": [
    "# Maximum Element"
   ]
  },
  {
   "cell_type": "code",
   "execution_count": 1,
   "metadata": {
    "scrolled": true
   },
   "outputs": [
    {
     "name": "stdout",
     "output_type": "stream",
     "text": [
      "10\n",
      "1 97\n",
      "2\n",
      "1 20\n",
      "2\n",
      "1 26\n",
      "1 20\n",
      "2\n",
      "3\n",
      "26\n",
      "1 91\n",
      "3\n",
      "91\n"
     ]
    }
   ],
   "source": [
    "stack = []\n",
    "for i in range(int(input())):  \n",
    "    arr = list(map(int,input().split()))    \n",
    "    if(len(arr)>1):\n",
    "        stack.append(arr[1])\n",
    "    else:\n",
    "        if(arr[0]==2):\n",
    "            del stack[-1]\n",
    "        else:\n",
    "            print(stack[-1])"
   ]
  },
  {
   "cell_type": "code",
   "execution_count": 2,
   "metadata": {
    "scrolled": true
   },
   "outputs": [
    {
     "name": "stdout",
     "output_type": "stream",
     "text": [
      "10\n",
      "1 97\n",
      "2\n",
      "1 20\n",
      "2\n",
      "1 26\n",
      "1 20\n",
      "2\n",
      "3\n",
      "1 91\n",
      "3\n"
     ]
    }
   ],
   "source": [
    "inputs = []\n",
    "for i in range(int(input())):  \n",
    "    arr = list(map(int,input().split())) \n",
    "    inputs.append(arr)"
   ]
  },
  {
   "cell_type": "code",
   "execution_count": 10,
   "metadata": {},
   "outputs": [
    {
     "name": "stdout",
     "output_type": "stream",
     "text": [
      "26\n",
      "91\n"
     ]
    }
   ],
   "source": [
    "stack = []\n",
    "for arr in inputs:  \n",
    "#     arr = list(map(int,input().split()))    \n",
    "#     print(arr)\n",
    "#     print(len(arr))\n",
    "    if(len(arr)>1):\n",
    "        stack.append(arr[1])\n",
    "    else:\n",
    "        if(arr[0]==2):\n",
    "            del stack[-1]\n",
    "        else:\n",
    "            print(max(stack))"
   ]
  },
  {
   "cell_type": "code",
   "execution_count": 3,
   "metadata": {},
   "outputs": [
    {
     "data": {
      "text/plain": [
       "[[1, 97], [2], [1, 20], [2], [1, 26], [1, 20], [2], [3], [1, 91], [3]]"
      ]
     },
     "execution_count": 3,
     "metadata": {},
     "output_type": "execute_result"
    }
   ],
   "source": [
    "inputs"
   ]
  },
  {
   "cell_type": "code",
   "execution_count": 8,
   "metadata": {},
   "outputs": [
    {
     "data": {
      "text/plain": [
       "91"
      ]
     },
     "execution_count": 8,
     "metadata": {},
     "output_type": "execute_result"
    }
   ],
   "source": [
    "stack[-1]"
   ]
  },
  {
   "cell_type": "code",
   "execution_count": null,
   "metadata": {},
   "outputs": [
    {
     "name": "stdout",
     "output_type": "stream",
     "text": [
      "10\n",
      "1 97\n"
     ]
    }
   ],
   "source": [
    "stack = []\n",
    "for i in range(int(input())):  \n",
    "    arr = list(map(int,input().split()))    \n",
    "    if(len(arr)>1):\n",
    "        stack.append(arr[1])\n",
    "    else:\n",
    "        if(arr[0]==2):\n",
    "            del stack[-1]\n",
    "        else:\n",
    "            print(max(stack))"
   ]
  },
  {
   "cell_type": "code",
   "execution_count": null,
   "metadata": {
    "collapsed": true
   },
   "outputs": [],
   "source": []
  }
 ],
 "metadata": {
  "kernelspec": {
   "display_name": "Python 3",
   "language": "python",
   "name": "python3"
  },
  "language_info": {
   "codemirror_mode": {
    "name": "ipython",
    "version": 3
   },
   "file_extension": ".py",
   "mimetype": "text/x-python",
   "name": "python",
   "nbconvert_exporter": "python",
   "pygments_lexer": "ipython3",
   "version": "3.6.3"
  }
 },
 "nbformat": 4,
 "nbformat_minor": 2
}
