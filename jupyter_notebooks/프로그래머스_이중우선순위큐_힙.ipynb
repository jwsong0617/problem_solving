{
 "cells": [
  {
   "cell_type": "markdown",
   "metadata": {},
   "source": [
    "# Inputs"
   ]
  },
  {
   "cell_type": "markdown",
   "metadata": {},
   "source": [
    "## Exs"
   ]
  },
  {
   "cell_type": "code",
   "execution_count": 100,
   "metadata": {},
   "outputs": [],
   "source": [
    "operations = ['I 16','D 1']\n",
    "# operations = ['I 7','I 5','I -5','D -1']"
   ]
  },
  {
   "cell_type": "markdown",
   "metadata": {},
   "source": [
    "## Corner Cases"
   ]
  },
  {
   "cell_type": "code",
   "execution_count": null,
   "metadata": {},
   "outputs": [],
   "source": []
  },
  {
   "cell_type": "markdown",
   "metadata": {},
   "source": [
    "# Logic"
   ]
  },
  {
   "cell_type": "code",
   "execution_count": 2,
   "metadata": {},
   "outputs": [],
   "source": [
    "import heapq as hq"
   ]
  },
  {
   "cell_type": "code",
   "execution_count": 3,
   "metadata": {},
   "outputs": [],
   "source": [
    "heapque = []\n",
    "hq.heapify(heapque)"
   ]
  },
  {
   "cell_type": "code",
   "execution_count": 78,
   "metadata": {},
   "outputs": [],
   "source": [
    "heapque = [16,15,3,51,51]\n",
    "hq.heapify(heapque)"
   ]
  },
  {
   "cell_type": "code",
   "execution_count": 94,
   "metadata": {},
   "outputs": [],
   "source": [
    "heapque = [(-16,16),(-15,15),(-3,3)]\n",
    "hq.heapify(heapque)"
   ]
  },
  {
   "cell_type": "code",
   "execution_count": 101,
   "metadata": {
    "scrolled": false
   },
   "outputs": [
    {
     "name": "stdout",
     "output_type": "stream",
     "text": [
      "[]\n",
      "[]\n",
      "[0, 0]\n"
     ]
    }
   ],
   "source": [
    "heapque = []\n",
    "heapque_max = []\n",
    "hq.heapify(heapque)\n",
    "hq.heapify(heapque_max)\n",
    "for operation in operations:\n",
    "    ops, num = operation.split(' ')\n",
    "    num = int(num)    \n",
    "    if(ops=='I'):\n",
    "        hq.heappush(heapque,num)\n",
    "        hq.heappush(heapque_max,(-num,num))\n",
    "    elif(ops=='D' and num == -1):\n",
    "        if(heapque==[]):\n",
    "            continue\n",
    "        minNum = hq.heappop(heapque)\n",
    "        heapque_max.remove((-minNum,minNum))\n",
    "    elif(ops=='D' and num == 1):\n",
    "        if(heapque==[]):\n",
    "            continue\n",
    "        maxNum = hq.heappop(heapque_max)[1]        \n",
    "        heapque.remove(maxNum)\n",
    "print(heapque)\n",
    "print(heapque_max)\n",
    "if(heapque == []):\n",
    "    answer = [0,0]\n",
    "else:\n",
    "    minNum = hq.heappop(heapque)\n",
    "    maxNum = hq.heappop(heapque_max)[1]\n",
    "    answer = [maxNum,minNum]\n",
    "print(answer)"
   ]
  }
 ],
 "metadata": {
  "kernelspec": {
   "display_name": "Python 3",
   "language": "python",
   "name": "python3"
  },
  "language_info": {
   "codemirror_mode": {
    "name": "ipython",
    "version": 3
   },
   "file_extension": ".py",
   "mimetype": "text/x-python",
   "name": "python",
   "nbconvert_exporter": "python",
   "pygments_lexer": "ipython3",
   "version": "3.7.1"
  }
 },
 "nbformat": 4,
 "nbformat_minor": 2
}
