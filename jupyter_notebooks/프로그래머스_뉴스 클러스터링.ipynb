{
 "cells": [
  {
   "cell_type": "code",
   "execution_count": 17,
   "metadata": {
    "collapsed": true
   },
   "outputs": [],
   "source": [
    "import re\n",
    "from collections import Counter"
   ]
  },
  {
   "cell_type": "code",
   "execution_count": 192,
   "metadata": {
    "collapsed": true
   },
   "outputs": [],
   "source": [
    "str1 = 'FRANCE'\n",
    "str2 = 'french'"
   ]
  },
  {
   "cell_type": "code",
   "execution_count": 198,
   "metadata": {
    "collapsed": true
   },
   "outputs": [],
   "source": [
    "str1 = 'handshake'\n",
    "str2 = 'shake hands'"
   ]
  },
  {
   "cell_type": "code",
   "execution_count": 235,
   "metadata": {
    "collapsed": true
   },
   "outputs": [],
   "source": [
    "str1 = 'aa1+aa2'\n",
    "str2 = 'AAAA12'"
   ]
  },
  {
   "cell_type": "code",
   "execution_count": 251,
   "metadata": {
    "collapsed": true
   },
   "outputs": [],
   "source": [
    "str1 = 'E=M*C^2'\n",
    "str2 = 'e=m*c^2'"
   ]
  },
  {
   "cell_type": "code",
   "execution_count": 252,
   "metadata": {
    "collapsed": true
   },
   "outputs": [],
   "source": [
    "str1 = str1.lower()\n",
    "str2 = str2.lower()\n",
    "bi1 = [str1[i:i+2] for i in range(len(str1)-1)]\n",
    "bi2 = [str2[i:i+2] for i in range(len(str2)-1)]\n",
    "bis = [bi1,bi2]\n",
    "new_bis = []"
   ]
  },
  {
   "cell_type": "code",
   "execution_count": 253,
   "metadata": {
    "scrolled": true
   },
   "outputs": [
    {
     "name": "stdout",
     "output_type": "stream",
     "text": [
      "['e=', '=m', 'm*', '*c', 'c^', '^2']\n",
      "elem e=\n",
      "elem =m\n",
      "elem m*\n",
      "elem *c\n",
      "elem c^\n",
      "elem ^2\n",
      "['e=', '=m', 'm*', '*c', 'c^', '^2']\n",
      "elem e=\n",
      "elem =m\n",
      "elem m*\n",
      "elem *c\n",
      "elem c^\n",
      "elem ^2\n"
     ]
    }
   ],
   "source": [
    "# string preprocessing\n",
    "for bi in bis:\n",
    "    print(bi)\n",
    "    new_bi = []\n",
    "    for i, elem in enumerate(bi):\n",
    "#         p = re.compile('[\\W_]', re.IGNORECASE | re.UNICODE)\n",
    "        p = re.compile(r'[^a-zA-Z]', re.IGNORECASE | re.UNICODE)        \n",
    "        m = p.search(elem)\n",
    "        print('elem',elem)\n",
    "        if m:\n",
    "#             print('search found: ', m.group())\n",
    "            bi[i] = ''\n",
    "#             new_bi.append(elem)\n",
    "        else:\n",
    "#             print('No search')\n",
    "#             bi[i] = ''\n",
    "            new_bi.append(elem)\n",
    "    new_bis.append(new_bi)"
   ]
  },
  {
   "cell_type": "code",
   "execution_count": 254,
   "metadata": {
    "scrolled": true
   },
   "outputs": [
    {
     "name": "stdout",
     "output_type": "stream",
     "text": [
      "both null set\n",
      "1\n"
     ]
    }
   ],
   "source": [
    "# https://dbader.org/blog/sets-and-multiset-in-python\n",
    "# https://docs.python.org/2/library/collections.html\n",
    "# multi set\n",
    "\n",
    "multisets = []\n",
    "for new_bi in new_bis:\n",
    "    multiset = Counter()\n",
    "    for new_elem in new_bi:\n",
    "        multiset.update({new_elem})\n",
    "    multisets.append(multiset)\n",
    "if(sum(multisets[0].values()) == 0 and sum(multisets[1].values()) == 0):\n",
    "    print('both null set')\n",
    "    jaccard = 1\n",
    "else:\n",
    "    intersection = multisets[0] & multisets[1]\n",
    "    union = multisets[0] | multisets[1]\n",
    "    jaccard = int((sum(intersection.values())/sum(union.values()))*65536)\n",
    "print(jaccard)"
   ]
  }
 ],
 "metadata": {
  "kernelspec": {
   "display_name": "Python 3",
   "language": "python",
   "name": "python3"
  },
  "language_info": {
   "codemirror_mode": {
    "name": "ipython",
    "version": 3
   },
   "file_extension": ".py",
   "mimetype": "text/x-python",
   "name": "python",
   "nbconvert_exporter": "python",
   "pygments_lexer": "ipython3",
   "version": "3.6.3"
  }
 },
 "nbformat": 4,
 "nbformat_minor": 2
}
