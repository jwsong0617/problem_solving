{
 "cells": [
  {
   "cell_type": "code",
   "execution_count": 30,
   "metadata": {},
   "outputs": [
    {
     "name": "stdout",
     "output_type": "stream",
     "text": [
      "4 11\n",
      "802\n",
      "743\n",
      "457\n",
      "539\n",
      "200\n"
     ]
    }
   ],
   "source": [
    "K, N = map(int,input().split(' '))\n",
    "lan_cables = [int(input()) for k in range(K)]\n",
    "def binary_search(arr, x):\n",
    "    left=1\n",
    "    right=max(arr)\n",
    "    while(left<=right):\n",
    "        mid = int((left+right)/2)\n",
    "        n = sum(map(lambda x:x//mid, lan_cables))\n",
    "        if(n>=x):\n",
    "            left = mid+1\n",
    "        else:\n",
    "            right = mid-1\n",
    "    return right\n",
    "print(binary_search(lan_cables, N))"
   ]
  }
 ],
 "metadata": {
  "kernelspec": {
   "display_name": "Python 3",
   "language": "python",
   "name": "python3"
  },
  "language_info": {
   "codemirror_mode": {
    "name": "ipython",
    "version": 3
   },
   "file_extension": ".py",
   "mimetype": "text/x-python",
   "name": "python",
   "nbconvert_exporter": "python",
   "pygments_lexer": "ipython3",
   "version": "3.6.3"
  }
 },
 "nbformat": 4,
 "nbformat_minor": 2
}
