{
 "cells": [
  {
   "cell_type": "code",
   "execution_count": 87,
   "metadata": {},
   "outputs": [
    {
     "name": "stdout",
     "output_type": "stream",
     "text": [
      "i>r\n",
      "i>r\n",
      "i>r\n",
      "i<=r\n",
      "i<=r\n",
      "i<=r\n"
     ]
    }
   ],
   "source": [
    "#짝수 고려 X\n",
    "import math\n",
    "s = str(input())\n",
    "r = -1\n",
    "p = -1\n",
    "N = len(s)\n",
    "A = [float('nan')]*N\n",
    "for i in range(0,N):    \n",
    "    if(i<=r):\n",
    "        A[i] = min(r-i, A[2*p - i])\n",
    "    else:\n",
    "        A[i] = 0\n",
    "    while(i-A[i]-1 >= 0 and i+A[i]+1 < len(s) and s[i-A[i]-1] == s[i+A[i]+1]):\n",
    "        A[i]+= 1\n",
    "    if(r<i+A[i]):\n",
    "        r = i+A[i]\n",
    "        p = i\n",
    "print(max(A))"
   ]
  },
  {
   "cell_type": "code",
   "execution_count": null,
   "metadata": {
    "collapsed": true
   },
   "outputs": [],
   "source": [
    "def manacher(s):\n",
    "    A = []\n",
    "    R = -1; p = -1\n",
    "    for i in range(len(s)):\n",
    "        if i <= R: A.append(min(A[2*p-i], R-i))\n",
    "        else: A.append(0)\n",
    "        while i-A[i]-1 >= 0 and i+A[i]+1 < len(s) and s[i-A[i]-1] == s[i+A[i]+1]: A[i]+= 1\n",
    "        if i+A[i] > R: R = i+A[i]; p = i\n",
    "    return A\n",
    "\n",
    "s = ' '.join(input())\n",
    "M = manacher(s)\n",
    "maxr = 0\n",
    "for i in range(len(M)):\n",
    "    if i%2 == 0: cur = M[i]//2*2+1\n",
    "    else: cur = (M[i]+1)//2*2\n",
    "    maxr = max(maxr, cur)\n",
    "print(maxr)"
   ]
  }
 ],
 "metadata": {
  "kernelspec": {
   "display_name": "Python 3",
   "language": "python",
   "name": "python3"
  },
  "language_info": {
   "codemirror_mode": {
    "name": "ipython",
    "version": 3
   },
   "file_extension": ".py",
   "mimetype": "text/x-python",
   "name": "python",
   "nbconvert_exporter": "python",
   "pygments_lexer": "ipython3",
   "version": "3.6.3"
  }
 },
 "nbformat": 4,
 "nbformat_minor": 2
}
