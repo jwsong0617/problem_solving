{
 "cells": [
  {
   "cell_type": "markdown",
   "metadata": {},
   "source": [
    "# input_ex"
   ]
  },
  {
   "cell_type": "markdown",
   "metadata": {},
   "source": [
    "### ex1"
   ]
  },
  {
   "cell_type": "code",
   "execution_count": 152,
   "metadata": {
    "collapsed": true
   },
   "outputs": [],
   "source": [
    "m = 4\n",
    "n = 5\n",
    "board = ['CCBDE', 'AAADE', 'AAABF', 'CCBBF']"
   ]
  },
  {
   "cell_type": "markdown",
   "metadata": {},
   "source": [
    "### ex2"
   ]
  },
  {
   "cell_type": "code",
   "execution_count": 150,
   "metadata": {
    "collapsed": true
   },
   "outputs": [],
   "source": [
    "m = 6\n",
    "n = 6\n",
    "board = ['TTTANT', 'RRFACC', 'RRRFCC', 'TRRRAA', 'TTMMMF', 'TMMTTJ']"
   ]
  },
  {
   "cell_type": "markdown",
   "metadata": {},
   "source": [
    "# Solution"
   ]
  },
  {
   "cell_type": "markdown",
   "metadata": {},
   "source": [
    "## check 2*2 blocks"
   ]
  },
  {
   "cell_type": "code",
   "execution_count": 153,
   "metadata": {
    "scrolled": false
   },
   "outputs": [
    {
     "name": "stdout",
     "output_type": "stream",
     "text": [
      "board_new: ['CCBDE', 'xxxDE', 'xxxBF', 'CCBBF']\n",
      "['bbbDE', 'bbbDE', 'CCBBF', 'CCBBF']\n",
      "board_new: ['bbbDE', 'bbbDE', 'xxxxF', 'xxxxF']\n",
      "['bbbbE', 'bbbbE', 'bbbDF', 'bbbDF']\n",
      "board_new: ['bbbbE', 'bbbbE', 'bbbDF', 'bbbDF']\n",
      "['bbbbE', 'bbbbE', 'bbbDF', 'bbbDF']\n",
      "14\n"
     ]
    }
   ],
   "source": [
    "directions = [[1,0], [1,1],[0,1]] #우, 우하, 하\n",
    "erased_block_num = 0\n",
    "#roop\n",
    "roop_flag = True\n",
    "while(roop_flag):\n",
    "    roop_flag = False\n",
    "    board_new = board[:]\n",
    "    # check condition\n",
    "    for i, row in enumerate(board):\n",
    "        for j, cell in enumerate(row):\n",
    "    #         print('i:',i,'j:',j)\n",
    "            condition_match_flag = True\n",
    "            for delta in directions:\n",
    "                delta_x = delta[0]\n",
    "                delta_y = delta[1]\n",
    "    #             print('delta x:',delta_x, 'delta y:',delta_y)\n",
    "                if((i+delta_x) >= m or (j+delta_y) >= n):\n",
    "    #                 print('index over')\n",
    "    #                 print(i+delta_x, j+delta_y)\n",
    "                    condition_match_flag = False\n",
    "                    break\n",
    "                if(cell == 'b' or board[i+delta_x][j+delta_y] == 'b'):\n",
    "                    condition_match_flag = False\n",
    "                    break\n",
    "                if(cell != board[i+delta_x][j+delta_y]): #if not match the condition\n",
    "    #                 print('do not same')\n",
    "    #                 print(i+delta_x, j+delta_y)\n",
    "                    condition_match_flag = False\n",
    "                    break\n",
    "            if(condition_match_flag):\n",
    "                roop_flag = True\n",
    "    #             print('condition_match_flag')\n",
    "    #             print('i:',i,'j:',j)\n",
    "                s_1 = board_new[i][:j] + 'xx' + board_new[i][j+2:]\n",
    "                s_2 = board_new[i+1][:j] + 'xx' + board_new[i+1][j+2:]\n",
    "    #             print(s_1)\n",
    "    #             print(s_2)\n",
    "                board_new[i] = s_1\n",
    "                board_new[i+1] = s_2\n",
    "    #             board_new[i] = \"\".join(s_1)\n",
    "    #             board_new[i+1] = \"\".join(s_2) #if match the condition            \n",
    "#     print(board_new)\n",
    "    #go down\n",
    "    print('board_new:',board_new)\n",
    "    board_new_t = list(map(list, zip(*board_new)))\n",
    "#     print(board_new_t)\n",
    "    for j, col in enumerate(board_new_t):\n",
    "        erased_block_num += col.count('x')\n",
    "        board_new_t[j] = ''.join(col).replace('x','')\n",
    "        max_n = len(board_new_t[j])\n",
    "        blank = 'b'*(m-max_n)\n",
    "        board_new_t[j] = blank + board_new_t[j]\n",
    "    board = list(map(''.join,list(map(list, zip(*board_new_t)))))\n",
    "    print(board)\n",
    "print(erased_block_num)"
   ]
  },
  {
   "cell_type": "code",
   "execution_count": 137,
   "metadata": {},
   "outputs": [
    {
     "data": {
      "text/plain": [
       "['bbbAbb', 'bbbAbb', 'bbTFNT', 'bbFRAA', 'TTMMMF', 'TMMTTJ']"
      ]
     },
     "execution_count": 137,
     "metadata": {},
     "output_type": "execute_result"
    }
   ],
   "source": [
    "board"
   ]
  },
  {
   "cell_type": "code",
   "execution_count": null,
   "metadata": {
    "scrolled": false
   },
   "outputs": [],
   "source": [
    "board_new"
   ]
  },
  {
   "cell_type": "code",
   "execution_count": 126,
   "metadata": {},
   "outputs": [
    {
     "data": {
      "text/plain": [
       "4"
      ]
     },
     "execution_count": 126,
     "metadata": {},
     "output_type": "execute_result"
    }
   ],
   "source": [
    "board_new[1].count('x')"
   ]
  },
  {
   "cell_type": "code",
   "execution_count": 118,
   "metadata": {
    "scrolled": true
   },
   "outputs": [
    {
     "data": {
      "text/plain": [
       "['bbTTTT', 'bbbTTM', 'bbTFMM', 'AAFRMT', 'bbNAMT', 'bbTAFJ']"
      ]
     },
     "execution_count": 118,
     "metadata": {},
     "output_type": "execute_result"
    }
   ],
   "source": [
    "board_new_t"
   ]
  },
  {
   "cell_type": "code",
   "execution_count": 107,
   "metadata": {},
   "outputs": [
    {
     "data": {
      "text/plain": [
       "6"
      ]
     },
     "execution_count": 107,
     "metadata": {},
     "output_type": "execute_result"
    }
   ],
   "source": [
    "len(board_new_t[0])"
   ]
  },
  {
   "cell_type": "code",
   "execution_count": 123,
   "metadata": {},
   "outputs": [
    {
     "data": {
      "text/plain": [
       "[['b', 'b', 'b', 'A', 'b', 'b'],\n",
       " ['b', 'b', 'b', 'A', 'b', 'b'],\n",
       " ['T', 'b', 'T', 'F', 'N', 'T'],\n",
       " ['T', 'T', 'F', 'R', 'A', 'A'],\n",
       " ['T', 'T', 'M', 'M', 'M', 'F'],\n",
       " ['T', 'M', 'M', 'T', 'T', 'J']]"
      ]
     },
     "execution_count": 123,
     "metadata": {},
     "output_type": "execute_result"
    }
   ],
   "source": [
    "list(map(list, zip(*board_new_t)))"
   ]
  },
  {
   "cell_type": "code",
   "execution_count": 122,
   "metadata": {
    "scrolled": false
   },
   "outputs": [
    {
     "data": {
      "text/plain": [
       "['bbbAbb', 'bbbAbb', 'TbTFNT', 'TTFRAA', 'TTMMMF', 'TMMTTJ']"
      ]
     },
     "execution_count": 122,
     "metadata": {},
     "output_type": "execute_result"
    }
   ],
   "source": [
    "list(map(''.join,list(map(list, zip(*board_new_t)))))"
   ]
  },
  {
   "cell_type": "markdown",
   "metadata": {},
   "source": [
    "## go down"
   ]
  },
  {
   "cell_type": "code",
   "execution_count": 76,
   "metadata": {},
   "outputs": [],
   "source": [
    "board_new_t = list(map(list, zip(*board_new)))"
   ]
  },
  {
   "cell_type": "code",
   "execution_count": 77,
   "metadata": {},
   "outputs": [
    {
     "data": {
      "text/plain": [
       "[['T', 'x', 'x', 'T', 'T', 'T'],\n",
       " ['T', 'x', 'x', 'x', 'T', 'M'],\n",
       " ['T', 'F', 'x', 'x', 'M', 'M'],\n",
       " ['A', 'A', 'F', 'R', 'M', 'T'],\n",
       " ['N', 'x', 'x', 'A', 'M', 'T'],\n",
       " ['T', 'x', 'x', 'A', 'F', 'J']]"
      ]
     },
     "execution_count": 77,
     "metadata": {},
     "output_type": "execute_result"
    }
   ],
   "source": [
    "board_new_t"
   ]
  },
  {
   "cell_type": "code",
   "execution_count": 82,
   "metadata": {},
   "outputs": [],
   "source": [
    "board_new_t[0] = ''.join(board_new_t[0]).replace('x','')"
   ]
  },
  {
   "cell_type": "code",
   "execution_count": 83,
   "metadata": {},
   "outputs": [
    {
     "data": {
      "text/plain": [
       "['TTTT',\n",
       " ['T', 'x', 'x', 'x', 'T', 'M'],\n",
       " ['T', 'F', 'x', 'x', 'M', 'M'],\n",
       " ['A', 'A', 'F', 'R', 'M', 'T'],\n",
       " ['N', 'x', 'x', 'A', 'M', 'T'],\n",
       " ['T', 'x', 'x', 'A', 'F', 'J']]"
      ]
     },
     "execution_count": 83,
     "metadata": {},
     "output_type": "execute_result"
    }
   ],
   "source": [
    "board_new_t"
   ]
  },
  {
   "cell_type": "code",
   "execution_count": 78,
   "metadata": {
    "scrolled": true
   },
   "outputs": [
    {
     "data": {
      "text/plain": [
       "['TTTANT', 'xxFAxx', 'xxxFxx', 'TxxRAA', 'TTMMMF', 'TMMTTJ']"
      ]
     },
     "execution_count": 78,
     "metadata": {},
     "output_type": "execute_result"
    }
   ],
   "source": [
    "board_new"
   ]
  },
  {
   "cell_type": "code",
   "execution_count": 73,
   "metadata": {},
   "outputs": [
    {
     "data": {
      "text/plain": [
       "['TTTANT', 'RRFACC', 'RRRFCC', 'TRRRAA', 'TTMMMF', 'TMMTTJ']"
      ]
     },
     "execution_count": 73,
     "metadata": {},
     "output_type": "execute_result"
    }
   ],
   "source": [
    "board"
   ]
  }
 ],
 "metadata": {
  "kernelspec": {
   "display_name": "Python 3",
   "language": "python",
   "name": "python3"
  },
  "language_info": {
   "codemirror_mode": {
    "name": "ipython",
    "version": 3
   },
   "file_extension": ".py",
   "mimetype": "text/x-python",
   "name": "python",
   "nbconvert_exporter": "python",
   "pygments_lexer": "ipython3",
   "version": "3.6.3"
  }
 },
 "nbformat": 4,
 "nbformat_minor": 2
}
