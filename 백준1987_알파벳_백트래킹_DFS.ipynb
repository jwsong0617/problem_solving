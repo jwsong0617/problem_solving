{
 "cells": [
  {
   "cell_type": "code",
   "execution_count": 1,
   "metadata": {
    "scrolled": true
   },
   "outputs": [
    {
     "name": "stdout",
     "output_type": "stream",
     "text": [
      "5 5\n",
      "ABCDE\n",
      "FGHIJ\n",
      "KLMNO\n",
      "PQRST\n",
      "UVWXY\n"
     ]
    }
   ],
   "source": [
    "R, C = map(int,input().split())\n",
    "board = [[0]*C]*R\n",
    "cache = [['']*C for _ in range(R)]\n",
    "for r in range(R):\n",
    "    row = list(input())    \n",
    "    board[r] = row  "
   ]
  },
  {
   "cell_type": "markdown",
   "metadata": {},
   "source": [
    "# sol1"
   ]
  },
  {
   "cell_type": "markdown",
   "metadata": {},
   "source": [
    "###### test case 통과. 하지만 시간초과 메모리초과"
   ]
  },
  {
   "cell_type": "code",
   "execution_count": 3,
   "metadata": {},
   "outputs": [
    {
     "name": "stdout",
     "output_type": "stream",
     "text": [
      "25\n"
     ]
    }
   ],
   "source": [
    "root = board[0][0]\n",
    "passed_init = []\n",
    "pathCasesNum = []\n",
    "def checkCell(x, y, passed, curCell):\n",
    "    #print('function called')    \n",
    "    #현재 셀을 지나온 경로에 추가\n",
    "    passed_ = passed[:]\n",
    "    passed_.append(curCell)\n",
    "    #print(x,y,passed_,curCell)\n",
    "    endFlag = True\n",
    "    #상하좌우 확인\n",
    "    #셀이 존재하고 지나온 경로에 해당 알파벳이 없다\n",
    "    #상\n",
    "    if((y-1)>=0 and board[y-1][x] not in passed_):\n",
    "        endFlag = False\n",
    "        curCell = board[y-1][x]\n",
    "        checkCell(x, y-1, passed_, curCell)\n",
    "    #하\n",
    "    if((y+1)<=(R-1) and board[y+1][x] not in passed_):\n",
    "        endFlag = False\n",
    "        curCell = board[y+1][x]\n",
    "        checkCell(x, y+1, passed_, curCell)\n",
    "    #좌\n",
    "    if((x-1)>=0 and board[y][x-1] not in passed_):\n",
    "        endFlag = False\n",
    "        curCell = board[y][x-1]\n",
    "        checkCell(x-1, y, passed_, curCell)\n",
    "    #우\n",
    "    if((x+1)<=(C-1) and board[y][x+1] not in passed_):\n",
    "        endFlag = False\n",
    "        curCell = board[y][x+1]\n",
    "        checkCell(x+1, y, passed_, curCell)        \n",
    "    #종료 조건 확인\n",
    "    if(endFlag): #상하좌우로 갈 수 있는 칸이 없으면 endFlag == 1\n",
    "        pathCasesNum.append(len(passed_))\n",
    "checkCell(0,0, passed_init, root)\n",
    "print(max(pathCasesNum))"
   ]
  },
  {
   "cell_type": "markdown",
   "metadata": {},
   "source": [
    "# sol2"
   ]
  },
  {
   "cell_type": "code",
   "execution_count": 2,
   "metadata": {},
   "outputs": [
    {
     "name": "stdout",
     "output_type": "stream",
     "text": [
      "25\n"
     ]
    }
   ],
   "source": [
    "import collections\n",
    "def bfs():\n",
    "    q = collections.deque()\n",
    "    q.append((0,0,board[0][0]))    \n",
    "    max_size = 1\n",
    "    direct = [[0, 1], [1, 0], [0, -1], [-1, 0]]\n",
    "    while(q):\n",
    "#         print('\\nfunction called')\n",
    "#         print(q)\n",
    "        x, y, data = q.popleft()\n",
    "#         print(x,y,data)\n",
    "        for dx, dy in direct:\n",
    "            nx = x+dx\n",
    "            ny = y+dy\n",
    "            if(ny < 0 or nx < 0 or ny >= R or nx >= C):\n",
    "                continue\n",
    "            if(board[ny][nx] in data):\n",
    "                continue\n",
    "            if(cache[ny][nx] == data + board[ny][nx]):\n",
    "                continue\n",
    "            else:\n",
    "                cache[ny][nx] = data+board[ny][nx]\n",
    "                q.append((nx, ny, data + board[ny][nx]))\n",
    "                max_size = max(max_size, len(data)+1)\n",
    "    print(max_size)        \n",
    "bfs()"
   ]
  },
  {
   "cell_type": "markdown",
   "metadata": {},
   "source": [
    "# sol3"
   ]
  },
  {
   "cell_type": "markdown",
   "metadata": {},
   "source": [
    "###### https://www.acmicpc.net/source/4760085"
   ]
  },
  {
   "cell_type": "code",
   "execution_count": null,
   "metadata": {
    "collapsed": true
   },
   "outputs": [],
   "source": [
    "import collections\n",
    "\n",
    "\n",
    "def bfs():\n",
    "    direct = [[0, 1], [1, 0], [0, -1], [-1, 0]]\n",
    "\n",
    "    q = collections.deque()\n",
    "    q.append((0, 0, board[0][0]))\n",
    "    max_size = 1\n",
    "\n",
    "    while q:\n",
    "        y, x, data = q.popleft() # 0 0 C / 0 1 CA / 1 1 CAD\n",
    "        for dy, dx in direct:\n",
    "            ny = y + dy\n",
    "            nx = x + dx\n",
    "            if ny < 0 or nx < 0 or ny >= r or nx >= c:\n",
    "                continue\n",
    "            if board[ny][nx] in data:\n",
    "                continue\n",
    "            if cache[ny][nx] == data + board[ny][nx]:\n",
    "                continue\n",
    "            else:\n",
    "                cache[ny][nx] = data + board[ny][nx]\n",
    "                q.append((ny, nx, data + board[ny][nx]))\n",
    "                max_size = max(max_size, len(data)+1)\n",
    "    print(max_size) # len(\"CAD\")\n",
    "\n",
    "r, c = map(int, input().split())\n",
    "cache = [['']*c for _ in range(r)]\n",
    "board = []\n",
    "for i in range(r):\n",
    "    board.append(input())\n",
    "\n",
    "bfs()"
   ]
  },
  {
   "cell_type": "code",
   "execution_count": null,
   "metadata": {
    "collapsed": true
   },
   "outputs": [],
   "source": []
  }
 ],
 "metadata": {
  "kernelspec": {
   "display_name": "Python 3",
   "language": "python",
   "name": "python3"
  },
  "language_info": {
   "codemirror_mode": {
    "name": "ipython",
    "version": 3
   },
   "file_extension": ".py",
   "mimetype": "text/x-python",
   "name": "python",
   "nbconvert_exporter": "python",
   "pygments_lexer": "ipython3",
   "version": "3.7.1"
  }
 },
 "nbformat": 4,
 "nbformat_minor": 2
}
