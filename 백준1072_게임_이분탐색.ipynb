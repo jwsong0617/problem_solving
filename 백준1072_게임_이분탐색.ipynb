{
 "cells": [
  {
   "cell_type": "code",
   "execution_count": 15,
   "metadata": {},
   "outputs": [
    {
     "name": "stdout",
     "output_type": "stream",
     "text": [
      "100 80\n",
      "6\n"
     ]
    }
   ],
   "source": [
    "# (y+x)/(x+t) = y/x + 0.01을 만족해야함\n",
    "# t = x^2/(99x-100y)로 정리\n",
    "# 근데 이거는 승률을 높이려면 몇 판을 계속 이겨야 하는가네...근데 이거 맞음 ㅋ\n",
    "\n",
    "import math\n",
    "X, Y = map(int,input().split())\n",
    "# Z = int((Y/X)*100) #이게 문제??????\n",
    "Z = 100*Y//X\n",
    "\n",
    "if(Z >= 99):\n",
    "    print(-1)\n",
    "else:\n",
    "#     print(math.ceil((X*X)/((99*X)-(100*Y))))\n",
    "    print(math.ceil(((Z+1)*X-100*Y) / (99-Z)))"
   ]
  },
  {
   "cell_type": "markdown",
   "metadata": {},
   "source": [
    "## 아래 두개 무슨 차이지"
   ]
  },
  {
   "cell_type": "code",
   "execution_count": 19,
   "metadata": {},
   "outputs": [
    {
     "name": "stdout",
     "output_type": "stream",
     "text": [
      "80\n"
     ]
    }
   ],
   "source": [
    "Z = int((Y/X)*100)\n",
    "print(Z)"
   ]
  },
  {
   "cell_type": "code",
   "execution_count": 21,
   "metadata": {},
   "outputs": [
    {
     "data": {
      "text/plain": [
       "100"
      ]
     },
     "execution_count": 21,
     "metadata": {},
     "output_type": "execute_result"
    }
   ],
   "source": [
    "X"
   ]
  },
  {
   "cell_type": "code",
   "execution_count": 18,
   "metadata": {},
   "outputs": [
    {
     "name": "stdout",
     "output_type": "stream",
     "text": [
      "80\n"
     ]
    }
   ],
   "source": [
    "Z = 100*Y//X\n",
    "print(Z)"
   ]
  },
  {
   "cell_type": "code",
   "execution_count": null,
   "metadata": {
    "collapsed": true
   },
   "outputs": [],
   "source": [
    "# http://gtolarc.logdown.com/posts/745126"
   ]
  },
  {
   "cell_type": "markdown",
   "metadata": {},
   "source": [
    "# 이분탐색"
   ]
  },
  {
   "cell_type": "code",
   "execution_count": 7,
   "metadata": {},
   "outputs": [
    {
     "name": "stdout",
     "output_type": "stream",
     "text": [
      "100 80\n",
      "6\n"
     ]
    }
   ],
   "source": [
    "import math\n",
    "X, Y = map(int,input().split())\n",
    "win_rate = 100*Y//X\n",
    "if(win_rate >= 99):\n",
    "    print(-1)\n",
    "else:\n",
    "    left = 0\n",
    "    right = math.pow(10,9)+1\n",
    "    while(left<=right):        \n",
    "        mid = int((left+right)/2)\n",
    "#         new_win_rate = int(((Y+mid)/(X+mid))*100)\n",
    "        new_win_rate = int(((Y+mid)*100/(X+mid)))\n",
    "        if(new_win_rate > win_rate):\n",
    "            right = mid-1\n",
    "        else:\n",
    "            left = mid+1\n",
    "    print(left)"
   ]
  }
 ],
 "metadata": {
  "kernelspec": {
   "display_name": "Python 3",
   "language": "python",
   "name": "python3"
  },
  "language_info": {
   "codemirror_mode": {
    "name": "ipython",
    "version": 3
   },
   "file_extension": ".py",
   "mimetype": "text/x-python",
   "name": "python",
   "nbconvert_exporter": "python",
   "pygments_lexer": "ipython3",
   "version": "3.6.3"
  }
 },
 "nbformat": 4,
 "nbformat_minor": 2
}
