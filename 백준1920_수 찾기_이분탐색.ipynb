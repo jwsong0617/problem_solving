{
 "cells": [
  {
   "cell_type": "code",
   "execution_count": 1,
   "metadata": {},
   "outputs": [
    {
     "name": "stdout",
     "output_type": "stream",
     "text": [
      "5\n",
      "4 1 5 2 3\n",
      "5\n",
      "1 3 7 9 5\n",
      "1\n",
      "1\n",
      "0\n",
      "0\n",
      "1\n"
     ]
    }
   ],
   "source": [
    "M = input()\n",
    "nums = list(map(int,input().split(' ')))\n",
    "N = input()\n",
    "checks = list(map(int,input().split(' ')))\n",
    "nums_sorted = sorted(nums)\n",
    "def binary_search(sorted_arr, x):\n",
    "    l = 0\n",
    "    r = len(sorted_arr)-1\n",
    "    while(l<=r):\n",
    "        m = int((l+r)/2)\n",
    "        if(sorted_arr[m] == x):\n",
    "            return 1\n",
    "        elif(sorted_arr[m]>x):\n",
    "            r=m-1\n",
    "        else:\n",
    "            l=m+1\n",
    "    return 0\n",
    "ans = (list(map(lambda x:str(binary_search(nums_sorted, x)),checks)))\n",
    "for i in ans:\n",
    "    print(i)"
   ]
  }
 ],
 "metadata": {
  "kernelspec": {
   "display_name": "Python 3",
   "language": "python",
   "name": "python3"
  },
  "language_info": {
   "codemirror_mode": {
    "name": "ipython",
    "version": 3
   },
   "file_extension": ".py",
   "mimetype": "text/x-python",
   "name": "python",
   "nbconvert_exporter": "python",
   "pygments_lexer": "ipython3",
   "version": "3.6.3"
  }
 },
 "nbformat": 4,
 "nbformat_minor": 2
}
