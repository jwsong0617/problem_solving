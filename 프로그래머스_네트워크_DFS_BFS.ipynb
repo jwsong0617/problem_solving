{
 "cells": [
  {
   "cell_type": "markdown",
   "metadata": {},
   "source": [
    "# inputs"
   ]
  },
  {
   "cell_type": "code",
   "execution_count": 1,
   "metadata": {},
   "outputs": [],
   "source": [
    "computers = [[1, 1, 0], [1, 1, 0], [0, 0, 1]]\n",
    "n = 3"
   ]
  },
  {
   "cell_type": "code",
   "execution_count": 10,
   "metadata": {},
   "outputs": [],
   "source": [
    "computers = [[1, 1, 0], [1, 1, 1], [0, 1, 1]]\n",
    "n = 3"
   ]
  },
  {
   "cell_type": "markdown",
   "metadata": {},
   "source": [
    "# logic"
   ]
  },
  {
   "cell_type": "code",
   "execution_count": null,
   "metadata": {},
   "outputs": [],
   "source": [
    "# https://ghwlchlaks.github.io/Algorithm-DFS-python 참조"
   ]
  },
  {
   "cell_type": "code",
   "execution_count": 2,
   "metadata": {},
   "outputs": [],
   "source": [
    "def dfs(computers, visited, root):\n",
    "    stack = [root]\n",
    "    while(stack):\n",
    "        j=stack.pop()\n",
    "        if(visited[j]==0):\n",
    "            visited[j]=1\n",
    "        for i in range(len(computers)):\n",
    "            if(computers[j][i] == 1 and visited[i]==0):\n",
    "                stack.append(i)"
   ]
  },
  {
   "cell_type": "code",
   "execution_count": 11,
   "metadata": {},
   "outputs": [],
   "source": [
    "def solution(n, computers):\n",
    "    answer=0\n",
    "    i=0\n",
    "    visited = [0]*len(computers)\n",
    "    while 0 in visited:\n",
    "        if(visited[i]==0):\n",
    "            dfs(computers, visited, i)\n",
    "            answer+=1\n",
    "        i+=1\n",
    "    return answer"
   ]
  },
  {
   "cell_type": "code",
   "execution_count": 12,
   "metadata": {
    "scrolled": true
   },
   "outputs": [
    {
     "data": {
      "text/plain": [
       "1"
      ]
     },
     "execution_count": 12,
     "metadata": {},
     "output_type": "execute_result"
    }
   ],
   "source": [
    "solution(n,computers)"
   ]
  }
 ],
 "metadata": {
  "kernelspec": {
   "display_name": "Python 3",
   "language": "python",
   "name": "python3"
  },
  "language_info": {
   "codemirror_mode": {
    "name": "ipython",
    "version": 3
   },
   "file_extension": ".py",
   "mimetype": "text/x-python",
   "name": "python",
   "nbconvert_exporter": "python",
   "pygments_lexer": "ipython3",
   "version": "3.7.1"
  }
 },
 "nbformat": 4,
 "nbformat_minor": 2
}
