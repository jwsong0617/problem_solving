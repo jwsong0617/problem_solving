{
 "cells": [
  {
   "cell_type": "code",
   "execution_count": 2,
   "metadata": {
    "collapsed": true
   },
   "outputs": [],
   "source": [
    "import time, datetime"
   ]
  },
  {
   "cell_type": "code",
   "execution_count": 14,
   "metadata": {},
   "outputs": [
    {
     "name": "stdout",
     "output_type": "stream",
     "text": [
      "3 0 0 1 2 0 0 2\n",
      "0:00:00\n"
     ]
    }
   ],
   "source": [
    "import bisect\n",
    "\n",
    "def binary_search_n(arr, x):\n",
    "    i = bisect.bisect_left(arr, x)\n",
    "    if(i < len(arr) and arr[i] == x):\n",
    "        return bisect.bisect_right(arr,x) - bisect.bisect_left(arr, x)         \n",
    "    else:\n",
    "        return 0\n",
    "    \n",
    "N = input()\n",
    "cards = list(map(int,input().split()))\n",
    "M = input()\n",
    "test_cards = list(map(int,input().split()))\n",
    "# start_time = time.time()\n",
    "cards.sort()\n",
    "ans = list(map(lambda x: binary_search_n(cards, x),test_cards))\n",
    "print(' '.join(str(e) for e in ans))\n",
    "# print(str(datetime.timedelta(seconds=time.time() - start_time)))"
   ]
  }
 ],
 "metadata": {
  "kernelspec": {
   "display_name": "Python 3",
   "language": "python",
   "name": "python3"
  },
  "language_info": {
   "codemirror_mode": {
    "name": "ipython",
    "version": 3
   },
   "file_extension": ".py",
   "mimetype": "text/x-python",
   "name": "python",
   "nbconvert_exporter": "python",
   "pygments_lexer": "ipython3",
   "version": "3.6.3"
  }
 },
 "nbformat": 4,
 "nbformat_minor": 2
}
