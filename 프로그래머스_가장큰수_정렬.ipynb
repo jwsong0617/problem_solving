{
 "cells": [
  {
   "cell_type": "markdown",
   "metadata": {},
   "source": [
    "# 입력 EXs"
   ]
  },
  {
   "cell_type": "code",
   "execution_count": 1,
   "metadata": {
    "collapsed": true
   },
   "outputs": [],
   "source": [
    "numbers = [6, 10, 2]"
   ]
  },
  {
   "cell_type": "code",
   "execution_count": 19,
   "metadata": {
    "collapsed": true
   },
   "outputs": [],
   "source": [
    "numbers = [3, 30, 34, 5, 9]"
   ]
  },
  {
   "cell_type": "code",
   "execution_count": 25,
   "metadata": {
    "collapsed": true
   },
   "outputs": [],
   "source": [
    "numbers = [0,0,0,0]"
   ]
  },
  {
   "cell_type": "code",
   "execution_count": 20,
   "metadata": {
    "collapsed": true
   },
   "outputs": [],
   "source": [
    "answer = ''"
   ]
  },
  {
   "cell_type": "markdown",
   "metadata": {},
   "source": [
    "## 방법1 - 실패"
   ]
  },
  {
   "cell_type": "code",
   "execution_count": 141,
   "metadata": {
    "collapsed": true
   },
   "outputs": [],
   "source": [
    "numbers_str = [str(number) for number in numbers]"
   ]
  },
  {
   "cell_type": "code",
   "execution_count": 121,
   "metadata": {
    "collapsed": true
   },
   "outputs": [],
   "source": [
    "answer = ''\n",
    "for digit in [str(x) for x in reversed(range(1,10))]:\n",
    "    nums = [x for x in numbers_str if x[0]==digit]    \n",
    "    nums_int = [int(x) for x in nums]\n",
    "    under_ten = [x for x in nums_int if x<10]\n",
    "    under_hund = [x for x in nums_int if x<100 and x>=10]\n",
    "    under_thous = [x for x in nums_int if x<1000 and x>=100]\n",
    "    thous = [x for x in nums_int if x==1000]    \n",
    "    answer+=''.join([str(x) for x in sorted(under_ten, reverse=True)])\n",
    "    answer+=''.join([str(x) for x in sorted(under_hund, reverse=True)])\n",
    "    answer+=''.join([str(x) for x in sorted(under_thous, reverse=True)])\n",
    "    answer+=''.join([str(x) for x in sorted(thous, reverse=True)])"
   ]
  },
  {
   "cell_type": "markdown",
   "metadata": {},
   "source": [
    "## 방법2 - 인터넷 참조 두 수 비교"
   ]
  },
  {
   "cell_type": "code",
   "execution_count": 12,
   "metadata": {
    "collapsed": true
   },
   "outputs": [],
   "source": [
    "import functools"
   ]
  },
  {
   "cell_type": "code",
   "execution_count": 27,
   "metadata": {
    "collapsed": true
   },
   "outputs": [],
   "source": [
    "numbers_str = [str(number) for number in numbers]"
   ]
  },
  {
   "cell_type": "code",
   "execution_count": 24,
   "metadata": {
    "collapsed": false,
    "scrolled": false
   },
   "outputs": [
    {
     "data": {
      "text/plain": [
       "'9534330'"
      ]
     },
     "execution_count": 24,
     "metadata": {},
     "output_type": "execute_result"
    }
   ],
   "source": [
    "''.join(sorted(numbers_str,key=functools.cmp_to_key(lambda x,y:int(x+y)-int(y+x)),reverse=True))"
   ]
  },
  {
   "cell_type": "code",
   "execution_count": 29,
   "metadata": {
    "collapsed": false,
    "scrolled": true
   },
   "outputs": [
    {
     "data": {
      "text/plain": [
       "0"
      ]
     },
     "execution_count": 29,
     "metadata": {},
     "output_type": "execute_result"
    }
   ],
   "source": [
    "int(''.join(sorted(numbers_str,key=functools.cmp_to_key(lambda x,y:int(x+y)-int(y+x)),reverse=True)))"
   ]
  },
  {
   "cell_type": "code",
   "execution_count": null,
   "metadata": {
    "collapsed": true
   },
   "outputs": [],
   "source": [
    "import functools\n",
    "def solution(numbers):\n",
    "    answer = ''\n",
    "    numbers_str = [str(number) for number in numbers]\n",
    "    answer = ''.join(sorted(numbers_str,key=functools.cmp_to_key(lambda x,y:int(x+y)-int(y+x)),reverse=True))\n",
    "    if(int(answer)==0):\n",
    "        answer = '0'\n",
    "    return answer"
   ]
  }
 ],
 "metadata": {
  "kernelspec": {
   "display_name": "Python 3",
   "language": "python",
   "name": "python3"
  },
  "language_info": {
   "codemirror_mode": {
    "name": "ipython",
    "version": 3
   },
   "file_extension": ".py",
   "mimetype": "text/x-python",
   "name": "python",
   "nbconvert_exporter": "python",
   "pygments_lexer": "ipython3",
   "version": "3.6.0"
  }
 },
 "nbformat": 4,
 "nbformat_minor": 2
}
