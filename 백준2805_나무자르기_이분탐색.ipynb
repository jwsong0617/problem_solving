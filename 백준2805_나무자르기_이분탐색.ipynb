{
 "cells": [
  {
   "cell_type": "code",
   "execution_count": 25,
   "metadata": {},
   "outputs": [
    {
     "name": "stdout",
     "output_type": "stream",
     "text": [
      "4 7\n",
      "20 15 10 17\n",
      "15\n"
     ]
    }
   ],
   "source": [
    "woods = []\n",
    "N, M = map(int,input().split())\n",
    "woods = list(map(int,input().split()))\n",
    "def binary_search(arr, need_amount):\n",
    "    left = 0\n",
    "    right = max(arr)\n",
    "    while(left<=right):        \n",
    "        mid = int((left+right)/2)\n",
    "#         print('mid:',mid)\n",
    "        woods_cut_total = sum(map(lambda x:x-mid if x>mid else 0,arr))\n",
    "        if(woods_cut_total == need_amount):\n",
    "            return mid\n",
    "        elif(woods_cut_total < need_amount): #너무 적게 얻음 더 잘라야함\n",
    "            right = mid-1\n",
    "        else:#너무 많이 얻음 덜 잘라야함\n",
    "            left = mid+1\n",
    "    return right\n",
    "print(binary_search(woods, M))"
   ]
  },
  {
   "cell_type": "code",
   "execution_count": 20,
   "metadata": {},
   "outputs": [
    {
     "name": "stdout",
     "output_type": "stream",
     "text": [
      "4 7\n",
      "20 15 10 17\n",
      "15\n"
     ]
    }
   ],
   "source": [
    "woods = []\n",
    "N, M = list(map(int,input().split()))\n",
    "woods = list(map(int,input().split()))\n",
    "def binary_search(arr, need_amount):\n",
    "    left = 0\n",
    "    right = max(arr)\n",
    "    while(left<=right):        \n",
    "        mid = int((left+right)/2)\n",
    "#         print('mid:',mid)\n",
    "        woods_cut_total = sum(map(lambda x:x-mid if x>mid else 0,arr))\n",
    "        if(woods_cut_total < need_amount): #너무 적게 얻음 더 잘라야함\n",
    "            right = mid-1\n",
    "        else:#너무 많이 얻음 덜 잘라야함\n",
    "            left = mid+1\n",
    "    return right\n",
    "print(binary_search(woods, M))"
   ]
  },
  {
   "cell_type": "code",
   "execution_count": 24,
   "metadata": {},
   "outputs": [
    {
     "name": "stdout",
     "output_type": "stream",
     "text": [
      "4 7\n",
      "20 15 10 17\n",
      "15\n"
     ]
    }
   ],
   "source": [
    "woods = []\n",
    "N, M = map(int,input().split())\n",
    "woods = list(map(int,input().split()))\n",
    "def binary_search(arr, need_amount):\n",
    "#     left = min(arr) # 이게 문제임 이렇게 하면 틀림\n",
    "    left = 0\n",
    "    right = max(arr)\n",
    "    result = 0\n",
    "    while(left<=right):        \n",
    "        mid = int((left+right)/2)\n",
    "        #print('mid:',mid)\n",
    "        woods_cut_total = sum(map(lambda x:x-mid if x>mid else 0,arr))\n",
    "        if(woods_cut_total >= need_amount):\n",
    "            if(result < mid):\n",
    "                result = mid\n",
    "            left = mid+1\n",
    "        elif(woods_cut_total < need_amount): #너무 적게 얻음 더 잘라야함\n",
    "            right = mid-1\n",
    "    return result\n",
    "print(binary_search(woods, M))"
   ]
  }
 ],
 "metadata": {
  "kernelspec": {
   "display_name": "Python 3",
   "language": "python",
   "name": "python3"
  },
  "language_info": {
   "codemirror_mode": {
    "name": "ipython",
    "version": 3
   },
   "file_extension": ".py",
   "mimetype": "text/x-python",
   "name": "python",
   "nbconvert_exporter": "python",
   "pygments_lexer": "ipython3",
   "version": "3.6.3"
  }
 },
 "nbformat": 4,
 "nbformat_minor": 2
}
