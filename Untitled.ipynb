{
 "cells": [
  {
   "cell_type": "markdown",
   "metadata": {},
   "source": [
    "# inputs"
   ]
  },
  {
   "cell_type": "code",
   "execution_count": 48,
   "metadata": {},
   "outputs": [],
   "source": [
    "begin = 'hit'\n",
    "target = 'cog'\n",
    "words = ['hot', 'dot', 'dog', 'lot', 'log', 'cog']"
   ]
  },
  {
   "cell_type": "markdown",
   "metadata": {},
   "source": [
    "# logics"
   ]
  },
  {
   "cell_type": "code",
   "execution_count": 49,
   "metadata": {},
   "outputs": [],
   "source": [
    "answer = 0\n",
    "def solution(begin, target, words):    \n",
    "    dfs(target, words, begin,1)\n",
    "    return answer"
   ]
  },
  {
   "cell_type": "code",
   "execution_count": 50,
   "metadata": {},
   "outputs": [],
   "source": [
    "def dfs(target, words, word, k):\n",
    "    print(target, words, word, k)\n",
    "    if(target==word):\n",
    "        print('targe==word')\n",
    "        global answer\n",
    "        answer = k\n",
    "    for i in range(len(word)):\n",
    "        print('i:',i)\n",
    "        for j,c_word in enumerate(words):\n",
    "            print(j,c_word)\n",
    "            print(c_word[:i], word[:i])\n",
    "            print(c_word[i+1:], word[i+1:])\n",
    "            if(c_word[i]==target[i] and c_word[:i]==word[:i] and c_word[i+1:]==word[i+1:]):\n",
    "                print('change!')\n",
    "                del words[j]\n",
    "                word=word[:i]+target[i]+word[i+1:]\n",
    "                dfs(target, words, word, k+1)"
   ]
  },
  {
   "cell_type": "code",
   "execution_count": 51,
   "metadata": {},
   "outputs": [
    {
     "name": "stdout",
     "output_type": "stream",
     "text": [
      "cog ['hot', 'dot', 'dog', 'lot', 'log', 'cog'] hit 1\n",
      "i: 0\n",
      "0 hot\n",
      " \n",
      "ot it\n",
      "1 dot\n",
      " \n",
      "ot it\n",
      "2 dog\n",
      " \n",
      "og it\n",
      "3 lot\n",
      " \n",
      "ot it\n",
      "4 log\n",
      " \n",
      "og it\n",
      "5 cog\n",
      " \n",
      "og it\n",
      "i: 1\n",
      "0 hot\n",
      "h h\n",
      "t t\n",
      "change!\n",
      "cog ['dot', 'dog', 'lot', 'log', 'cog'] hot 2\n",
      "i: 0\n",
      "0 dot\n",
      " \n",
      "ot ot\n",
      "1 dog\n",
      " \n",
      "og ot\n",
      "2 lot\n",
      " \n",
      "ot ot\n",
      "3 log\n",
      " \n",
      "og ot\n",
      "4 cog\n",
      " \n",
      "og ot\n",
      "i: 1\n",
      "0 dot\n",
      "d h\n",
      "t t\n",
      "1 dog\n",
      "d h\n",
      "g t\n",
      "2 lot\n",
      "l h\n",
      "t t\n",
      "3 log\n",
      "l h\n",
      "g t\n",
      "4 cog\n",
      "c h\n",
      "g t\n",
      "i: 2\n",
      "0 dot\n",
      "do ho\n",
      " \n",
      "1 dog\n",
      "do ho\n",
      " \n",
      "2 lot\n",
      "lo ho\n",
      " \n",
      "3 log\n",
      "lo ho\n",
      " \n",
      "4 cog\n",
      "co ho\n",
      " \n",
      "1 dog\n",
      "d h\n",
      "g t\n",
      "2 lot\n",
      "l h\n",
      "t t\n",
      "3 log\n",
      "l h\n",
      "g t\n",
      "4 cog\n",
      "c h\n",
      "g t\n",
      "i: 2\n",
      "0 dot\n",
      "do ho\n",
      " \n",
      "1 dog\n",
      "do ho\n",
      " \n",
      "2 lot\n",
      "lo ho\n",
      " \n",
      "3 log\n",
      "lo ho\n",
      " \n",
      "4 cog\n",
      "co ho\n",
      " \n"
     ]
    },
    {
     "data": {
      "text/plain": [
       "0"
      ]
     },
     "execution_count": 51,
     "metadata": {},
     "output_type": "execute_result"
    }
   ],
   "source": [
    "solution(begin, target, words)"
   ]
  },
  {
   "cell_type": "code",
   "execution_count": null,
   "metadata": {},
   "outputs": [],
   "source": []
  }
 ],
 "metadata": {
  "kernelspec": {
   "display_name": "Python 3",
   "language": "python",
   "name": "python3"
  },
  "language_info": {
   "codemirror_mode": {
    "name": "ipython",
    "version": 3
   },
   "file_extension": ".py",
   "mimetype": "text/x-python",
   "name": "python",
   "nbconvert_exporter": "python",
   "pygments_lexer": "ipython3",
   "version": "3.7.1"
  }
 },
 "nbformat": 4,
 "nbformat_minor": 2
}
