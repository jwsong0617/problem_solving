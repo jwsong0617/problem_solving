{
 "cells": [
  {
   "cell_type": "code",
   "execution_count": 1,
   "metadata": {},
   "outputs": [],
   "source": [
    "#수포자 1 12345 반복\n",
    "#수포자 2 21 23 24 25 반복\n",
    "#수포자 3 33 11 22 44 55 반복"
   ]
  },
  {
   "cell_type": "markdown",
   "metadata": {},
   "source": [
    "# inputs"
   ]
  },
  {
   "cell_type": "code",
   "execution_count": 197,
   "metadata": {},
   "outputs": [],
   "source": [
    "answers = [1,2,3,4,5]"
   ]
  },
  {
   "cell_type": "code",
   "execution_count": 154,
   "metadata": {},
   "outputs": [],
   "source": [
    "answers = [1,3,2,4,2]"
   ]
  },
  {
   "cell_type": "markdown",
   "metadata": {},
   "source": [
    "# logics"
   ]
  },
  {
   "cell_type": "code",
   "execution_count": 141,
   "metadata": {},
   "outputs": [],
   "source": [
    "question_nums = len(answers)"
   ]
  },
  {
   "cell_type": "code",
   "execution_count": 142,
   "metadata": {},
   "outputs": [],
   "source": [
    "submit1 = [1,2,3,4,5]\n",
    "submit2 = [2,1,2,3,2,4,2,5]\n",
    "submit3 = [3,3,1,1,2,2,4,4,5,5]"
   ]
  },
  {
   "cell_type": "code",
   "execution_count": 181,
   "metadata": {},
   "outputs": [],
   "source": [
    "def submit(question_nums,answers,submit_pattern):\n",
    "    correct_num = 0    \n",
    "    submit_pattern_len = len(submit_pattern)\n",
    "    for i in range(1,question_nums+1):\n",
    "        if(i%submit_pattern_len==0):\n",
    "            if(answers[i-1]==submit_pattern[-1]):\n",
    "                correct_num+=1\n",
    "#             print(i,correct_num)\n",
    "            continue\n",
    "        if(submit_pattern[(i%submit_pattern_len)-1]==answers[i-1]):\n",
    "            correct_num+=1\n",
    "#             print(i,correct_num)\n",
    "    return correct_num"
   ]
  },
  {
   "cell_type": "code",
   "execution_count": 198,
   "metadata": {},
   "outputs": [],
   "source": [
    "def solution(answers):\n",
    "    answer = []\n",
    "    question_nums = len(answers)\n",
    "    submit1 = [1,2,3,4,5]\n",
    "    submit2 = [2,1,2,3,2,4,2,5]\n",
    "    submit3 = [3,3,1,1,2,2,4,4,5,5]\n",
    "    s1_num = submit(question_nums,answers,submit1)\n",
    "    s2_num = submit(question_nums,answers,submit2)\n",
    "    s3_num = submit(question_nums,answers,submit3)\n",
    "    answer = [(1,s1_num),(2,s2_num),(3,s3_num)]\n",
    "    max_correct_num = max(answer, key=lambda x:x[1])[1]    \n",
    "    answer = [x[0] for x in answer if x[1]==max_correct_num]\n",
    "    answer.sort()\n",
    "    return answer"
   ]
  }
 ],
 "metadata": {
  "kernelspec": {
   "display_name": "Python 3",
   "language": "python",
   "name": "python3"
  },
  "language_info": {
   "codemirror_mode": {
    "name": "ipython",
    "version": 3
   },
   "file_extension": ".py",
   "mimetype": "text/x-python",
   "name": "python",
   "nbconvert_exporter": "python",
   "pygments_lexer": "ipython3",
   "version": "3.7.1"
  }
 },
 "nbformat": 4,
 "nbformat_minor": 2
}
