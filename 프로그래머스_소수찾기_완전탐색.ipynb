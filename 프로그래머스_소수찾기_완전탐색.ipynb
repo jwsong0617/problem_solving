{
 "cells": [
  {
   "cell_type": "markdown",
   "metadata": {},
   "source": [
    "# inputs"
   ]
  },
  {
   "cell_type": "code",
   "execution_count": 177,
   "metadata": {},
   "outputs": [],
   "source": [
    "numbers = '17'"
   ]
  },
  {
   "cell_type": "code",
   "execution_count": 183,
   "metadata": {},
   "outputs": [],
   "source": [
    "numbers = '011'"
   ]
  },
  {
   "cell_type": "markdown",
   "metadata": {},
   "source": [
    "# corner cases"
   ]
  },
  {
   "cell_type": "code",
   "execution_count": 117,
   "metadata": {},
   "outputs": [],
   "source": [
    "numbers = '12345'"
   ]
  },
  {
   "cell_type": "markdown",
   "metadata": {},
   "source": [
    "# logic"
   ]
  },
  {
   "cell_type": "code",
   "execution_count": 7,
   "metadata": {},
   "outputs": [],
   "source": [
    "import itertools"
   ]
  },
  {
   "cell_type": "code",
   "execution_count": null,
   "metadata": {},
   "outputs": [],
   "source": [
    "def is_prime(n):\n",
    "    if(n<2):\n",
    "        return False\n",
    "    if(n in (2,3)):\n",
    "        return True\n",
    "    if(n%2 is 0 or n%3 is 0):\n",
    "        return False\n",
    "    if n<9:\n",
    "        return True\n",
    "    k,l=5,n*0.5\n",
    "    while(k<=l):\n",
    "        if n%k is 0 or n%(k+2) is 0:\n",
    "            return False\n",
    "        k+=6\n",
    "    return True"
   ]
  },
  {
   "cell_type": "code",
   "execution_count": 186,
   "metadata": {},
   "outputs": [],
   "source": [
    "def solution(numbers):\n",
    "    answer = set()\n",
    "    numbers_lst = list(numbers)\n",
    "    for r in range(1,len(numbers)+1):        \n",
    "        all_permutes = [''.join(x) for x in itertools.permutations(numbers_lst,r)]\n",
    "        all_permutes_int = [int(x) for x in all_permutes]\n",
    "        all_permutes_int_set = set([str(x) for x in all_permutes_int])\n",
    "#         candidates = [int(x) for x in all_permutes_int_set]\n",
    "        answer = answer.union(all_permutes_int_set)\n",
    "#         print(answer)    \n",
    "    answer = [int(x) for x in answer]\n",
    "#     print(answer)\n",
    "    answer = sum([is_prime(x) for x in answer])\n",
    "    return answer"
   ]
  }
 ],
 "metadata": {
  "kernelspec": {
   "display_name": "Python 3",
   "language": "python",
   "name": "python3"
  },
  "language_info": {
   "codemirror_mode": {
    "name": "ipython",
    "version": 3
   },
   "file_extension": ".py",
   "mimetype": "text/x-python",
   "name": "python",
   "nbconvert_exporter": "python",
   "pygments_lexer": "ipython3",
   "version": "3.7.1"
  }
 },
 "nbformat": 4,
 "nbformat_minor": 2
}
