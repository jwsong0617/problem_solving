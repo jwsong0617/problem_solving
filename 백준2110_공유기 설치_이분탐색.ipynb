{
 "cells": [
  {
   "cell_type": "code",
   "execution_count": 3,
   "metadata": {},
   "outputs": [
    {
     "name": "stdout",
     "output_type": "stream",
     "text": [
      "5 3\n",
      "1\n",
      "2\n",
      "8\n",
      "4\n",
      "9\n",
      "3\n"
     ]
    }
   ],
   "source": [
    "# get input\n",
    "N, C = map(int, input().split())\n",
    "cord = []\n",
    "for i in range(N):\n",
    "    cord += [int(input())]\n",
    "cord_sorted = sorted(cord)\n",
    "left = 1\n",
    "right = cord_sorted[-1] - cord_sorted[0]\n",
    "ans = 0\n",
    "d = 0\n",
    "while(left<=right):\n",
    "#     print('left:',left,' right:',right)\n",
    "    cnt = 1\n",
    "    mid = (left+right)/2\n",
    "#     print('mid:',mid)\n",
    "    mid = int(mid)\n",
    "\n",
    "    start = cord_sorted[0]\n",
    "    for i in range(1,N):        \n",
    "        d = cord_sorted[i] - start\n",
    "        if(d>=mid):\n",
    "#             print('cord:',start, cord_sorted[i])\n",
    "            cnt+=1\n",
    "            start = cord_sorted[i]\n",
    "#     print('cnt:',cnt,'\\n')    \n",
    "    if(cnt>=C):\n",
    "        ans = mid\n",
    "        left = mid+1        \n",
    "    else:\n",
    "        right = mid-1\n",
    "print(ans)"
   ]
  }
 ],
 "metadata": {
  "kernelspec": {
   "display_name": "Python 3",
   "language": "python",
   "name": "python3"
  },
  "language_info": {
   "codemirror_mode": {
    "name": "ipython",
    "version": 3
   },
   "file_extension": ".py",
   "mimetype": "text/x-python",
   "name": "python",
   "nbconvert_exporter": "python",
   "pygments_lexer": "ipython3",
   "version": "3.6.4"
  }
 },
 "nbformat": 4,
 "nbformat_minor": 2
}
