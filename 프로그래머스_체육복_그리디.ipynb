{
 "cells": [
  {
   "cell_type": "markdown",
   "metadata": {},
   "source": [
    "# inputs"
   ]
  },
  {
   "cell_type": "code",
   "execution_count": 17,
   "metadata": {},
   "outputs": [],
   "source": [
    "n=5\n",
    "lost = [2,4]\n",
    "reserve = [1,3,5]"
   ]
  },
  {
   "cell_type": "code",
   "execution_count": 14,
   "metadata": {},
   "outputs": [],
   "source": [
    "n=5\n",
    "lost = [2,4]\n",
    "reserve = [3]"
   ]
  },
  {
   "cell_type": "code",
   "execution_count": 1,
   "metadata": {},
   "outputs": [],
   "source": [
    "n=5\n",
    "lost = [2,3,4]\n",
    "reserve = [3,4,5]"
   ]
  },
  {
   "cell_type": "markdown",
   "metadata": {},
   "source": [
    "# logic"
   ]
  },
  {
   "cell_type": "code",
   "execution_count": 2,
   "metadata": {},
   "outputs": [],
   "source": [
    "def solution(n, lost, reserve):    \n",
    "    available = [1]*n\n",
    "    lost.sort()\n",
    "    reserve.sort()    \n",
    "    for idx in lost:\n",
    "        available[idx-1]=0\n",
    "        if(idx in reserve):\n",
    "            available[idx-1]=1\n",
    "            reserve.remove(idx)\n",
    "            continue\n",
    "    for idx in lost:                \n",
    "        if(idx-1 in reserve):\n",
    "            available[idx-1]=1\n",
    "            reserve.remove(idx-1)\n",
    "            continue\n",
    "        elif(idx+1 in reserve):\n",
    "            available[idx-1]=1\n",
    "            reserve.remove(idx+1)\n",
    "            continue\n",
    "    return sum(available)"
   ]
  },
  {
   "cell_type": "code",
   "execution_count": 3,
   "metadata": {
    "scrolled": true
   },
   "outputs": [
    {
     "data": {
      "text/plain": [
       "4"
      ]
     },
     "execution_count": 3,
     "metadata": {},
     "output_type": "execute_result"
    }
   ],
   "source": [
    "solution(n, lost, reserve)"
   ]
  }
 ],
 "metadata": {
  "kernelspec": {
   "display_name": "Python 3",
   "language": "python",
   "name": "python3"
  },
  "language_info": {
   "codemirror_mode": {
    "name": "ipython",
    "version": 3
   },
   "file_extension": ".py",
   "mimetype": "text/x-python",
   "name": "python",
   "nbconvert_exporter": "python",
   "pygments_lexer": "ipython3",
   "version": "3.7.1"
  }
 },
 "nbformat": 4,
 "nbformat_minor": 2
}
