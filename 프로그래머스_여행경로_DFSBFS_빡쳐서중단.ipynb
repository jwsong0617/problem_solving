{
 "cells": [
  {
   "cell_type": "markdown",
   "metadata": {},
   "source": [
    "###### dfs로 풀자"
   ]
  },
  {
   "cell_type": "markdown",
   "metadata": {},
   "source": [
    "# inputs"
   ]
  },
  {
   "cell_type": "code",
   "execution_count": 6,
   "metadata": {},
   "outputs": [],
   "source": [
    "input1 = [['ICN', 'JFK'], ['HND', 'IAD'], ['JFK', 'HND']]\n",
    "input2 = [['ICN', 'SFO'], ['ICN', 'ATL'], ['SFO', 'ATL'], ['ATL', 'ICN'], ['ATL','SFO']]"
   ]
  },
  {
   "cell_type": "markdown",
   "metadata": {},
   "source": [
    "# logic"
   ]
  },
  {
   "cell_type": "code",
   "execution_count": 75,
   "metadata": {},
   "outputs": [],
   "source": [
    "def dfs(tickets, visited, root):\n",
    "    stack = [root]\n",
    "    answer = [root]\n",
    "    while stack:        \n",
    "        print('\\nstack:',stack)\n",
    "        print('answer:',answer)\n",
    "        ticket = stack.pop()\n",
    "        print('ticket:',ticket)\n",
    "        print('visited:',visited)\n",
    "        if ticket not in visited:\n",
    "#             visited.append(ticket)\n",
    "            for i in range(len(tickets)):\n",
    "                if(tickets[i][0]==ticket[1] and tickets[i] not in visited):\n",
    "                    stack.append(tickets[i])\n",
    "                    answer.append(tickets[i])\n",
    "                    visited.append(ticket)\n",
    "        if len(answer) == len(tickets):\n",
    "            print('path created')\n",
    "            return answer"
   ]
  },
  {
   "cell_type": "code",
   "execution_count": 53,
   "metadata": {},
   "outputs": [],
   "source": [
    "def solution(tickets):\n",
    "    roots = [ticket for ticket in tickets if ticket[0]==\"ICN\"]\n",
    "    for root in roots:\n",
    "        print('\\n\\nroot:',root)\n",
    "        visited = []\n",
    "        dfs(tickets, visited, root)"
   ]
  },
  {
   "cell_type": "code",
   "execution_count": 76,
   "metadata": {
    "scrolled": false
   },
   "outputs": [
    {
     "name": "stdout",
     "output_type": "stream",
     "text": [
      "\n",
      "\n",
      "root: ['ICN', 'JFK']\n",
      "\n",
      "stack: [['ICN', 'JFK']]\n",
      "answer: [['ICN', 'JFK']]\n",
      "ticket: ['ICN', 'JFK']\n",
      "visited: []\n",
      "\n",
      "stack: [['JFK', 'HND']]\n",
      "answer: [['ICN', 'JFK'], ['JFK', 'HND']]\n",
      "ticket: ['JFK', 'HND']\n",
      "visited: [['ICN', 'JFK']]\n",
      "path created\n"
     ]
    }
   ],
   "source": [
    "a = solution(input1)"
   ]
  },
  {
   "cell_type": "code",
   "execution_count": 77,
   "metadata": {},
   "outputs": [
    {
     "name": "stdout",
     "output_type": "stream",
     "text": [
      "\n",
      "\n",
      "root: ['ICN', 'SFO']\n",
      "\n",
      "stack: [['ICN', 'SFO']]\n",
      "answer: [['ICN', 'SFO']]\n",
      "ticket: ['ICN', 'SFO']\n",
      "visited: []\n",
      "\n",
      "stack: [['SFO', 'ATL']]\n",
      "answer: [['ICN', 'SFO'], ['SFO', 'ATL']]\n",
      "ticket: ['SFO', 'ATL']\n",
      "visited: [['ICN', 'SFO']]\n",
      "\n",
      "stack: [['ATL', 'ICN'], ['ATL', 'SFO']]\n",
      "answer: [['ICN', 'SFO'], ['SFO', 'ATL'], ['ATL', 'ICN'], ['ATL', 'SFO']]\n",
      "ticket: ['ATL', 'SFO']\n",
      "visited: [['ICN', 'SFO'], ['SFO', 'ATL'], ['SFO', 'ATL']]\n",
      "\n",
      "stack: [['ATL', 'ICN']]\n",
      "answer: [['ICN', 'SFO'], ['SFO', 'ATL'], ['ATL', 'ICN'], ['ATL', 'SFO']]\n",
      "ticket: ['ATL', 'ICN']\n",
      "visited: [['ICN', 'SFO'], ['SFO', 'ATL'], ['SFO', 'ATL']]\n",
      "path created\n",
      "\n",
      "\n",
      "root: ['ICN', 'ATL']\n",
      "\n",
      "stack: [['ICN', 'ATL']]\n",
      "answer: [['ICN', 'ATL']]\n",
      "ticket: ['ICN', 'ATL']\n",
      "visited: []\n",
      "\n",
      "stack: [['ATL', 'ICN'], ['ATL', 'SFO']]\n",
      "answer: [['ICN', 'ATL'], ['ATL', 'ICN'], ['ATL', 'SFO']]\n",
      "ticket: ['ATL', 'SFO']\n",
      "visited: [['ICN', 'ATL'], ['ICN', 'ATL']]\n",
      "\n",
      "stack: [['ATL', 'ICN'], ['SFO', 'ATL']]\n",
      "answer: [['ICN', 'ATL'], ['ATL', 'ICN'], ['ATL', 'SFO'], ['SFO', 'ATL']]\n",
      "ticket: ['SFO', 'ATL']\n",
      "visited: [['ICN', 'ATL'], ['ICN', 'ATL'], ['ATL', 'SFO']]\n",
      "path created\n"
     ]
    }
   ],
   "source": [
    "solution(input2)"
   ]
  },
  {
   "cell_type": "code",
   "execution_count": null,
   "metadata": {},
   "outputs": [],
   "source": []
  }
 ],
 "metadata": {
  "kernelspec": {
   "display_name": "Python 3",
   "language": "python",
   "name": "python3"
  },
  "language_info": {
   "codemirror_mode": {
    "name": "ipython",
    "version": 3
   },
   "file_extension": ".py",
   "mimetype": "text/x-python",
   "name": "python",
   "nbconvert_exporter": "python",
   "pygments_lexer": "ipython3",
   "version": "3.7.1"
  }
 },
 "nbformat": 4,
 "nbformat_minor": 2
}
