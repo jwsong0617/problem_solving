{
 "cells": [
  {
   "cell_type": "code",
   "execution_count": 67,
   "metadata": {
    "scrolled": true
   },
   "outputs": [
    {
     "name": "stdout",
     "output_type": "stream",
     "text": [
      "8\n"
     ]
    }
   ],
   "source": [
    "n = int(input())"
   ]
  },
  {
   "cell_type": "markdown",
   "metadata": {},
   "source": [
    "# Sol 1"
   ]
  },
  {
   "cell_type": "code",
   "execution_count": 87,
   "metadata": {},
   "outputs": [
    {
     "name": "stdout",
     "output_type": "stream",
     "text": [
      "Running Time : 0.0040\n",
      "possibleCases: 92\n"
     ]
    }
   ],
   "source": [
    "def checkChess(n, lst, rowNum):\n",
    "    global possibleCases\n",
    "    # print('\\nfunction called')\n",
    "    # print('rowNum:',rowNum)\n",
    "    # 현재 row에서 둘 수 있는 포인트를 구함 -> 가능한 셀 구함\n",
    "    #이미 체스판에 두어진 말들과 비교한다.\n",
    "    #가로 제거할 필요 없음\n",
    "    curRow = [0]*n\n",
    "    if(rowNum != 0):\n",
    "        for elem in lst:\n",
    "            rowIdx = elem[0]#기존에 둔 체스말의 행 인덱스\n",
    "            colIdx = elem[1]#기존에 둔 체스말의 열 인덱스\n",
    "        #세로 제거\n",
    "            curRow[colIdx]=1\n",
    "        #대각선 제거\n",
    "            diagDiff = rowNum-rowIdx #현재행과 기존 체스말 위치의 차이\n",
    "            # print('diagDiff:',diagDiff)\n",
    "            #0일 경우는 없음\n",
    "            if(diagDiff+colIdx <= n-1): #우하단 대각선\n",
    "                # print('right down')\n",
    "                curRow[diagDiff+colIdx]=1\n",
    "            if(colIdx-diagDiff >= 0): #좌하단 대각선\n",
    "                # print('left down')\n",
    "                curRow[colIdx-diagDiff]=1\n",
    "    if(rowNum == n-1):#맨 마지막 매트릭스면 가능한 포인트들을 구한다.\n",
    "        #이게 가능한 경우의 수 중 하나\n",
    "        for element in curRow:\n",
    "            if(element == 0):\n",
    "                possibleCases+=1\n",
    "        possibleList = []\n",
    "                \n",
    "    # 다시 리커시브하게 업데이트된 [배치된 체스트 말 리스트]로 checkChess 부름\n",
    "    possibleCols=[]\n",
    "    for idx, element in enumerate(curRow):#가능한 셀의 열번호 획득\n",
    "        if(element == 0):\n",
    "            possibleCols.append(idx)\n",
    "    # if(len(possibleCols) != 0):print('possibleCols:',possibleCols) \n",
    "#     possibleLists = [0]*len(possibleCols)\n",
    "    for pIdx in possibleCols:\n",
    "        possibleList = lst[:]\n",
    "        possibleList.append([rowNum,pIdx])\n",
    "        # print('possibleList:',possibleList)\n",
    "        checkChess(n, possibleList, rowNum+1)\n",
    "    return;\n",
    "\n",
    "def solution(n):    \n",
    "    # 0이면 가능 1이면 불가능\n",
    "    checkChess(n,firstLst,rowNum)\n",
    "    return possibleCases\n",
    "\n",
    "import time\n",
    "count_t = time.time()\n",
    "firstLst = []\n",
    "rowNum = 0\n",
    "possibleCases=0\n",
    "solution(n)\n",
    "print('Running Time : %.04f' % (time.time() - count_t))\n",
    "print('possibleCases:',possibleCases)"
   ]
  },
  {
   "cell_type": "markdown",
   "metadata": {},
   "source": [
    "# Sol 2_최적화"
   ]
  },
  {
   "cell_type": "code",
   "execution_count": 69,
   "metadata": {
    "scrolled": false
   },
   "outputs": [
    {
     "name": "stdout",
     "output_type": "stream",
     "text": [
      "Running Time : 0.0050\n",
      "possibleCases: 92\n"
     ]
    }
   ],
   "source": [
    "def checkChess(n, impossiblePath_cumulative, rowNum):\n",
    "    global possibleCases\n",
    "#     print('\\nfunction called')\n",
    "#     print('rowNum:',rowNum)\n",
    "    # 기존에 둔 셀을 누적해서 가지고 있는 row를 통해 세로가 겹치거나 대각선이 겹치는 셀을 제거한다\n",
    "    # 그리하여 현재 row에서 둘 수 있는 포인트를 구함 -> 가능한 셀 구함\n",
    "    \n",
    "    # 이미 체스판에 두어진 말들과 비교한다.\n",
    "    # 가로는 제거할 필요 없음\n",
    "    # 세로, 대각선만 체크\n",
    "    curRow = [0]*n\n",
    "    if(rowNum != 0):\n",
    "        for rowIdx,colIdx in enumerate(impossiblePath_cumulative):\n",
    "        #세로 제거\n",
    "            curRow[colIdx]=1\n",
    "        #대각선 제거\n",
    "            diagDiff = rowNum-rowIdx #현재행과 기존 체스말 위치의 차이\n",
    "            # print('diagDiff:',diagDiff)\n",
    "            #0일 경우는 없음\n",
    "            if(diagDiff+colIdx <= n-1): #우하단 대각선\n",
    "                # print('right down')\n",
    "                curRow[diagDiff+colIdx]=1\n",
    "            if(colIdx-diagDiff >= 0): #좌하단 대각선\n",
    "                # print('left down')\n",
    "                curRow[colIdx-diagDiff]=1\n",
    "    if(rowNum == n-1):#맨 마지막 매트릭스면 가능한 포인트들을 구한다.\n",
    "        #이게 가능한 경우의 수 중 하나\n",
    "        for element in curRow:\n",
    "            if(element == 0):\n",
    "                possibleCases+=1\n",
    "        possibleList = []\n",
    "                \n",
    "    # 다시 리커시브하게 업데이트된 [배치된 체스트 말 리스트]로 checkChess 부름\n",
    "#     print('curRow:',curRow)\n",
    "    possibleCols=[i for i, e in enumerate(curRow) if e != 1]\n",
    "#     print(possibleCols)\n",
    "#     if(len(possibleCols) != 0):print('possibleCols:',possibleCols) \n",
    "    for pIdx in possibleCols:\n",
    "        impossiblePath = impossiblePath_cumulative[:]\n",
    "        impossiblePath.append(pIdx)\n",
    "#         print('impossiblePath:',impossiblePath)\n",
    "        checkChess(n, impossiblePath, rowNum+1)\n",
    "    return;\n",
    "\n",
    "def solution(n):    \n",
    "    # 0이면 가능 1이면 불가능\n",
    "    checkChess(n,firstLst,rowNum)\n",
    "    return possibleCases\n",
    "\n",
    "import time\n",
    "count_t = time.time()\n",
    "firstLst = []\n",
    "rowNum = 0\n",
    "possibleCases=0\n",
    "solution(n)\n",
    "print('Running Time : %.04f' % (time.time() - count_t))\n",
    "print('possibleCases:',possibleCases)"
   ]
  },
  {
   "cell_type": "markdown",
   "metadata": {},
   "source": [
    "# Sol 3_다른 사람들"
   ]
  },
  {
   "cell_type": "markdown",
   "metadata": {},
   "source": [
    "###### http://blog.naver.com/PostView.nhn?blogId=jung2381187&logNo=220523731744&categoryNo=0&parentCategoryNo=0&viewDate=&currentPage=1&postListTopCurrentPage=1&from=postView"
   ]
  },
  {
   "cell_type": "code",
   "execution_count": 70,
   "metadata": {},
   "outputs": [
    {
     "name": "stdout",
     "output_type": "stream",
     "text": [
      "92\n",
      "Running Time : 0.0110\n",
      "possibleCases: 0\n"
     ]
    }
   ],
   "source": [
    "# N Queen Problem\n",
    " \n",
    "N = 8\n",
    " \n",
    "def placeQueen(queen_pos):\n",
    "    res = 0\n",
    "    n = len(queen_pos)\n",
    "    if n == N:\n",
    "        return 1\n",
    "    for i in range(N):\n",
    "        for j in range(n):\n",
    "            if i == queen_pos[j]: break\n",
    "            if n - j == i - queen_pos[j]: break\n",
    "            if n - j == queen_pos[j] - i: break\n",
    "        else:\n",
    "            res += placeQueen(queen_pos + [i])\n",
    "    return res\n",
    "import time\n",
    "count_t = time.time()\n",
    "firstLst = []\n",
    "rowNum = 0\n",
    "possibleCases=0\n",
    "print(placeQueen([]))\n",
    "print('Running Time : %.04f' % (time.time() - count_t))\n",
    "print('possibleCases:',possibleCases)"
   ]
  },
  {
   "cell_type": "markdown",
   "metadata": {},
   "source": [
    "###### http://codepractice.tistory.com/82"
   ]
  },
  {
   "cell_type": "code",
   "execution_count": 71,
   "metadata": {},
   "outputs": [
    {
     "name": "stdout",
     "output_type": "stream",
     "text": [
      "8\n",
      "Running Time : 1.3679\n"
     ]
    }
   ],
   "source": [
    "def nqueen(sol, N): \n",
    "    global count \n",
    "    if len(sol) == N:\n",
    "        # 정답 배열(sol)의 길이가 N과 같아지면 sol 을 프린트한다.\n",
    "        count += 1\n",
    "#         print(count, sol)\n",
    "        return 0\n",
    "    candidate = list(range(N)) # 0 부터 N-1 까지로 구성된 후보군(cadidate) 배열을 만든다.\n",
    "    for i in range(len(sol)):\n",
    "        if sol[i] in candidate: # 같은 열에 놓이는지 체크 \n",
    "            candidate.remove(sol[i]) # 같은 열에 놓이면 후보군에서 제외 \n",
    "        distance = len(sol) - i \n",
    "        if sol[i] + distance in candidate: # 같은 대각선 상에 놓이는지 체크\n",
    "            candidate.remove(sol[i] + distance) # 같은 대각선 상에 놓이면 후보군에서 제외\n",
    "        if sol[i] - distance in candidate: # 같은 대각선 상에 놓이는지 체크 \n",
    "            candidate.remove(sol[i] - distance) # 같은 대각선 상에 놓이면 후보군에서 제외 \n",
    "    if candidate != []: \n",
    "            for i in candidate:\n",
    "                sol.append(i) # 후보군의 요소를 정답 배열의 i+1 번째 요소로 설정 \n",
    "                nqueen(sol, N) # 재귀적으로 다음 후보군 체크 \n",
    "                sol.pop() \n",
    "    else: return 0 \n",
    "import time\n",
    "count_t = time.time()\n",
    "count = 0\n",
    "num = int(input())\n",
    "for i in range(num): \n",
    "    nqueen([i], num) \n",
    "if count == 0:\n",
    "    print(\"No solution\")\n",
    "print('Running Time : %.04f' % (time.time() - count_t))\n",
    "# 출처: http://codepractice.tistory.com/82 [코딩 연습]"
   ]
  },
  {
   "cell_type": "code",
   "execution_count": 73,
   "metadata": {},
   "outputs": [
    {
     "name": "stdout",
     "output_type": "stream",
     "text": [
      "8\n",
      "92\n",
      "Running Time : 1.1230\n"
     ]
    }
   ],
   "source": [
    "# 문제가 개편 되었습니다. 이로 인해 함수 구성이 변경되어, 과거의 코드는 동작하지 않을 수 있습니다.\n",
    "# 새로운 함수 구성을 적용하려면 [코드 초기화] 버튼을 누르세요. 단, [코드 초기화] 버튼을 누르면 작성 중인 코드는 사라집니다.\n",
    "\n",
    "from itertools import permutations\n",
    "def nQueen(n):\n",
    "    cols = range(n)\n",
    "    result = 0\n",
    "    for vec in permutations(cols):\n",
    "        if n == len(set(vec[i]+i for i in cols)) == len(set(vec[i]-i for i in cols)):\n",
    "            result+=1\n",
    "    return result\n",
    "\n",
    "# 아래는 테스트로 출력해 보기 위한 코드입니다.\n",
    "import time\n",
    "count_t = time.time()\n",
    "num = int(input())\n",
    "print(nQueen(num))\n",
    "print('Running Time : %.04f' % (time.time() - count_t))"
   ]
  },
  {
   "cell_type": "code",
   "execution_count": 74,
   "metadata": {},
   "outputs": [
    {
     "name": "stdout",
     "output_type": "stream",
     "text": [
      "8\n",
      "92\n",
      "Running Time : 1.4202\n"
     ]
    }
   ],
   "source": [
    "from itertools import permutations\n",
    "from functools import reduce\n",
    "\n",
    "def nQueen(n):\n",
    "    return reduce(lambda s,q: len(set({i-v:i+v for i,v in enumerate(q)}.values()))==n and s+1 or s, permutations(range(n)), 0)\n",
    "\n",
    "# 아래는 테스트로 출력해 보기 위한 코드입니다.\n",
    "import time\n",
    "count_t = time.time()\n",
    "num = int(input())\n",
    "print(nQueen(num))\n",
    "print('Running Time : %.04f' % (time.time() - count_t))"
   ]
  },
  {
   "cell_type": "code",
   "execution_count": 84,
   "metadata": {
    "scrolled": true
   },
   "outputs": [
    {
     "name": "stdout",
     "output_type": "stream",
     "text": [
      "(0, 4, 7, 5, 2, 6, 1, 3)\n",
      "(0, 5, 7, 2, 6, 3, 1, 4)\n",
      "(0, 6, 3, 5, 7, 1, 4, 2)\n",
      "(0, 6, 4, 7, 1, 3, 5, 2)\n",
      "(1, 3, 5, 7, 2, 0, 6, 4)\n",
      "(1, 4, 6, 0, 2, 7, 5, 3)\n",
      "(1, 4, 6, 3, 0, 7, 5, 2)\n",
      "(1, 5, 0, 6, 3, 7, 2, 4)\n",
      "(1, 5, 7, 2, 0, 3, 6, 4)\n",
      "(1, 6, 2, 5, 7, 4, 0, 3)\n",
      "(1, 6, 4, 7, 0, 3, 5, 2)\n",
      "(1, 7, 5, 0, 2, 4, 6, 3)\n",
      "(2, 0, 6, 4, 7, 1, 3, 5)\n",
      "(2, 4, 1, 7, 0, 6, 3, 5)\n",
      "(2, 4, 1, 7, 5, 3, 6, 0)\n",
      "(2, 4, 6, 0, 3, 1, 7, 5)\n",
      "(2, 4, 7, 3, 0, 6, 1, 5)\n",
      "(2, 5, 1, 4, 7, 0, 6, 3)\n",
      "(2, 5, 1, 6, 0, 3, 7, 4)\n",
      "(2, 5, 1, 6, 4, 0, 7, 3)\n",
      "(2, 5, 3, 0, 7, 4, 6, 1)\n",
      "(2, 5, 3, 1, 7, 4, 6, 0)\n",
      "(2, 5, 7, 0, 3, 6, 4, 1)\n",
      "(2, 5, 7, 0, 4, 6, 1, 3)\n",
      "(2, 5, 7, 1, 3, 0, 6, 4)\n",
      "(2, 6, 1, 7, 4, 0, 3, 5)\n",
      "(2, 6, 1, 7, 5, 3, 0, 4)\n",
      "(2, 7, 3, 6, 0, 5, 1, 4)\n",
      "(3, 0, 4, 7, 1, 6, 2, 5)\n",
      "(3, 0, 4, 7, 5, 2, 6, 1)\n",
      "(3, 1, 4, 7, 5, 0, 2, 6)\n",
      "(3, 1, 6, 2, 5, 7, 0, 4)\n",
      "(3, 1, 6, 2, 5, 7, 4, 0)\n",
      "(3, 1, 6, 4, 0, 7, 5, 2)\n",
      "(3, 1, 7, 4, 6, 0, 2, 5)\n",
      "(3, 1, 7, 5, 0, 2, 4, 6)\n",
      "(3, 5, 0, 4, 1, 7, 2, 6)\n",
      "(3, 5, 7, 1, 6, 0, 2, 4)\n",
      "(3, 5, 7, 2, 0, 6, 4, 1)\n",
      "(3, 6, 0, 7, 4, 1, 5, 2)\n",
      "(3, 6, 2, 7, 1, 4, 0, 5)\n",
      "(3, 6, 4, 1, 5, 0, 2, 7)\n",
      "(3, 6, 4, 2, 0, 5, 7, 1)\n",
      "(3, 7, 0, 2, 5, 1, 6, 4)\n",
      "(3, 7, 0, 4, 6, 1, 5, 2)\n",
      "(3, 7, 4, 2, 0, 6, 1, 5)\n",
      "(4, 0, 3, 5, 7, 1, 6, 2)\n",
      "(4, 0, 7, 3, 1, 6, 2, 5)\n",
      "(4, 0, 7, 5, 2, 6, 1, 3)\n",
      "(4, 1, 3, 5, 7, 2, 0, 6)\n",
      "(4, 1, 3, 6, 2, 7, 5, 0)\n",
      "(4, 1, 5, 0, 6, 3, 7, 2)\n",
      "(4, 1, 7, 0, 3, 6, 2, 5)\n",
      "(4, 2, 0, 5, 7, 1, 3, 6)\n",
      "(4, 2, 0, 6, 1, 7, 5, 3)\n",
      "(4, 2, 7, 3, 6, 0, 5, 1)\n",
      "(4, 6, 0, 2, 7, 5, 3, 1)\n",
      "(4, 6, 0, 3, 1, 7, 5, 2)\n",
      "(4, 6, 1, 3, 7, 0, 2, 5)\n",
      "(4, 6, 1, 5, 2, 0, 3, 7)\n",
      "(4, 6, 1, 5, 2, 0, 7, 3)\n",
      "(4, 6, 3, 0, 2, 7, 5, 1)\n",
      "(4, 7, 3, 0, 2, 5, 1, 6)\n",
      "(4, 7, 3, 0, 6, 1, 5, 2)\n",
      "(5, 0, 4, 1, 7, 2, 6, 3)\n",
      "(5, 1, 6, 0, 2, 4, 7, 3)\n",
      "(5, 1, 6, 0, 3, 7, 4, 2)\n",
      "(5, 2, 0, 6, 4, 7, 1, 3)\n",
      "(5, 2, 0, 7, 3, 1, 6, 4)\n",
      "(5, 2, 0, 7, 4, 1, 3, 6)\n",
      "(5, 2, 4, 6, 0, 3, 1, 7)\n",
      "(5, 2, 4, 7, 0, 3, 1, 6)\n",
      "(5, 2, 6, 1, 3, 7, 0, 4)\n",
      "(5, 2, 6, 1, 7, 4, 0, 3)\n",
      "(5, 2, 6, 3, 0, 7, 1, 4)\n",
      "(5, 3, 0, 4, 7, 1, 6, 2)\n",
      "(5, 3, 1, 7, 4, 6, 0, 2)\n",
      "(5, 3, 6, 0, 2, 4, 1, 7)\n",
      "(5, 3, 6, 0, 7, 1, 4, 2)\n",
      "(5, 7, 1, 3, 0, 6, 4, 2)\n",
      "(6, 0, 2, 7, 5, 3, 1, 4)\n",
      "(6, 1, 3, 0, 7, 4, 2, 5)\n",
      "(6, 1, 5, 2, 0, 3, 7, 4)\n",
      "(6, 2, 0, 5, 7, 4, 1, 3)\n",
      "(6, 2, 7, 1, 4, 0, 5, 3)\n",
      "(6, 3, 1, 4, 7, 0, 2, 5)\n",
      "(6, 3, 1, 7, 5, 0, 2, 4)\n",
      "(6, 4, 2, 0, 5, 7, 1, 3)\n",
      "(7, 1, 3, 0, 6, 4, 2, 5)\n",
      "(7, 1, 4, 2, 0, 6, 3, 5)\n",
      "(7, 2, 0, 5, 1, 4, 6, 3)\n",
      "(7, 3, 0, 2, 5, 1, 6, 4)\n",
      "Running Time : 0.0669\n"
     ]
    }
   ],
   "source": [
    "#https://rosettacode.org/wiki/N-queens_problem#Python\n",
    "from itertools import permutations\n",
    "count_t = time.time()\n",
    "n = 8\n",
    "cols = range(n)\n",
    "for vec in permutations(cols):\n",
    "    if n == len(set(vec[i]+i for i in cols)) \\\n",
    "         == len(set(vec[i]-i for i in cols)):\n",
    "        print ( vec )\n",
    "print('Running Time : %.04f' % (time.time() - count_t))"
   ]
  },
  {
   "cell_type": "code",
   "execution_count": 85,
   "metadata": {
    "scrolled": true
   },
   "outputs": [
    {
     "name": "stdout",
     "output_type": "stream",
     "text": [
      "Running Time : 0.0120\n"
     ]
    }
   ],
   "source": [
    "# From: http://wiki.python.org/moin/SimplePrograms, with permission from the author, Steve Howell\n",
    "BOARD_SIZE = 8\n",
    "count = 0\n",
    "def under_attack(col, queens):\n",
    "    return col in queens or \\\n",
    "           any(abs(col - x) == len(queens)-i for i,x in enumerate(queens))\n",
    " \n",
    "def solve(n):\n",
    "    solutions = [[]]\n",
    "    for row in range(n):\n",
    "        solutions = [solution+[i+1]\n",
    "                       for solution in solutions\n",
    "                       for i in range(BOARD_SIZE)\n",
    "                       if not under_attack(i+1, solution)]\n",
    "    return solutions\n",
    "count_t = time.time()\n",
    "for answer in solve(BOARD_SIZE): count+=1#print(list(enumerate(answer, start=1)))\n",
    "print('Running Time : %.04f' % (time.time() - count_t))"
   ]
  },
  {
   "cell_type": "code",
   "execution_count": 91,
   "metadata": {},
   "outputs": [
    {
     "name": "stdout",
     "output_type": "stream",
     "text": [
      "[(1, 1), (2, 5), (3, 8), (4, 6), (5, 3), (6, 7), (7, 2), (8, 4)]\n",
      "Running Time : 0.0010\n"
     ]
    }
   ],
   "source": [
    "BOARD_SIZE = 8\n",
    " \n",
    "def under_attack(col, queens):\n",
    "    return col in queens or \\\n",
    "           any(abs(col - x) == len(queens)-i for i,x in enumerate(queens))\n",
    " \n",
    "def solve(n):\n",
    "    solutions = [[]]\n",
    "    for row in range(n):\n",
    "        solutions = (solution+[i+1]\n",
    "                       for solution in solutions # first for clause is evaluated immediately,\n",
    "                                                 # so \"solutions\" is correctly captured\n",
    "                       for i in range(BOARD_SIZE)\n",
    "                       if not under_attack(i+1, solution))\n",
    "    return solutions\n",
    "# count_t = time.time()\n",
    "count_t = time.time()\n",
    "answers = solve(BOARD_SIZE)\n",
    "first_answer = next(answers)\n",
    "print(list(enumerate(first_answer, start=1)))\n",
    "print('Running Time : %.04f' % (time.time() - count_t))"
   ]
  },
  {
   "cell_type": "code",
   "execution_count": null,
   "metadata": {
    "collapsed": true
   },
   "outputs": [],
   "source": []
  }
 ],
 "metadata": {
  "anaconda-cloud": {},
  "kernelspec": {
   "display_name": "Python 3",
   "language": "python",
   "name": "python3"
  },
  "language_info": {
   "codemirror_mode": {
    "name": "ipython",
    "version": 3
   },
   "file_extension": ".py",
   "mimetype": "text/x-python",
   "name": "python",
   "nbconvert_exporter": "python",
   "pygments_lexer": "ipython3",
   "version": "3.6.3"
  }
 },
 "nbformat": 4,
 "nbformat_minor": 2
}
